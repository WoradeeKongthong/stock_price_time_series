{
  "nbformat": 4,
  "nbformat_minor": 0,
  "metadata": {
    "colab": {
      "name": "14_stockPrice_univariate_CNN-LSTM_singleStepOutput.ipynb",
      "provenance": [],
      "toc_visible": true,
      "authorship_tag": "ABX9TyOV1jgUEsak1Hscb1ncO6xN",
      "include_colab_link": true
    },
    "kernelspec": {
      "name": "python3",
      "display_name": "Python 3"
    }
  },
  "cells": [
    {
      "cell_type": "markdown",
      "metadata": {
        "id": "view-in-github",
        "colab_type": "text"
      },
      "source": [
        "<a href=\"https://colab.research.google.com/github/WoradeeKongthong/stock_price_time_series/blob/master/14_stockPrice_univariate_CNN_LSTM_singleStepOutput.ipynb\" target=\"_parent\"><img src=\"https://colab.research.google.com/assets/colab-badge.svg\" alt=\"Open In Colab\"/></a>"
      ]
    },
    {
      "cell_type": "markdown",
      "metadata": {
        "id": "UcH5m7wHJ5Uz",
        "colab_type": "text"
      },
      "source": [
        "# **CNN LSTM : time series forcasting with 1 feature input and 1 step output**"
      ]
    },
    {
      "cell_type": "code",
      "metadata": {
        "id": "lijY7XZfCGwl",
        "colab_type": "code",
        "outputId": "43c97bf4-7c3f-4fb4-9c2e-9b7ce876a848",
        "colab": {
          "base_uri": "https://localhost:8080/",
          "height": 71
        }
      },
      "source": [
        "import numpy as np\n",
        "import pandas as pd\n",
        "from pandas_datareader.data import DataReader\n",
        "import matplotlib.pyplot as plt\n",
        "import seaborn as sns\n",
        "\n",
        "% matplotlib inline"
      ],
      "execution_count": 0,
      "outputs": [
        {
          "output_type": "stream",
          "text": [
            "/usr/local/lib/python3.6/dist-packages/pandas_datareader/compat/__init__.py:7: FutureWarning: pandas.util.testing is deprecated. Use the functions in the public API at pandas.testing instead.\n",
            "  from pandas.util.testing import assert_frame_equal\n"
          ],
          "name": "stderr"
        }
      ]
    },
    {
      "cell_type": "markdown",
      "metadata": {
        "id": "YAIL4m65D7tx",
        "colab_type": "text"
      },
      "source": [
        "# Dataset : google stock price (2015-2019) from yahoo.com"
      ]
    },
    {
      "cell_type": "code",
      "metadata": {
        "id": "CqssyY4QCSRa",
        "colab_type": "code",
        "outputId": "00456e7d-67de-4aaf-f720-e6243514729c",
        "colab": {
          "base_uri": "https://localhost:8080/",
          "height": 235
        }
      },
      "source": [
        "df = DataReader('GOOG', data_source='yahoo', start='2015-01-01', end='2019-12-31')\n",
        "df.head()"
      ],
      "execution_count": 0,
      "outputs": [
        {
          "output_type": "execute_result",
          "data": {
            "text/html": [
              "<div>\n",
              "<style scoped>\n",
              "    .dataframe tbody tr th:only-of-type {\n",
              "        vertical-align: middle;\n",
              "    }\n",
              "\n",
              "    .dataframe tbody tr th {\n",
              "        vertical-align: top;\n",
              "    }\n",
              "\n",
              "    .dataframe thead th {\n",
              "        text-align: right;\n",
              "    }\n",
              "</style>\n",
              "<table border=\"1\" class=\"dataframe\">\n",
              "  <thead>\n",
              "    <tr style=\"text-align: right;\">\n",
              "      <th></th>\n",
              "      <th>High</th>\n",
              "      <th>Low</th>\n",
              "      <th>Open</th>\n",
              "      <th>Close</th>\n",
              "      <th>Volume</th>\n",
              "      <th>Adj Close</th>\n",
              "    </tr>\n",
              "    <tr>\n",
              "      <th>Date</th>\n",
              "      <th></th>\n",
              "      <th></th>\n",
              "      <th></th>\n",
              "      <th></th>\n",
              "      <th></th>\n",
              "      <th></th>\n",
              "    </tr>\n",
              "  </thead>\n",
              "  <tbody>\n",
              "    <tr>\n",
              "      <th>2015-01-02</th>\n",
              "      <td>529.815369</td>\n",
              "      <td>522.665039</td>\n",
              "      <td>527.561584</td>\n",
              "      <td>523.373108</td>\n",
              "      <td>1447500.0</td>\n",
              "      <td>523.373108</td>\n",
              "    </tr>\n",
              "    <tr>\n",
              "      <th>2015-01-05</th>\n",
              "      <td>522.894409</td>\n",
              "      <td>511.655243</td>\n",
              "      <td>521.827332</td>\n",
              "      <td>512.463013</td>\n",
              "      <td>2059800.0</td>\n",
              "      <td>512.463013</td>\n",
              "    </tr>\n",
              "    <tr>\n",
              "      <th>2015-01-06</th>\n",
              "      <td>514.761719</td>\n",
              "      <td>499.678131</td>\n",
              "      <td>513.589966</td>\n",
              "      <td>500.585632</td>\n",
              "      <td>2899900.0</td>\n",
              "      <td>500.585632</td>\n",
              "    </tr>\n",
              "    <tr>\n",
              "      <th>2015-01-07</th>\n",
              "      <td>505.855164</td>\n",
              "      <td>498.281952</td>\n",
              "      <td>505.611847</td>\n",
              "      <td>499.727997</td>\n",
              "      <td>2065000.0</td>\n",
              "      <td>499.727997</td>\n",
              "    </tr>\n",
              "    <tr>\n",
              "      <th>2015-01-08</th>\n",
              "      <td>502.101471</td>\n",
              "      <td>489.655640</td>\n",
              "      <td>496.626526</td>\n",
              "      <td>501.303680</td>\n",
              "      <td>3353500.0</td>\n",
              "      <td>501.303680</td>\n",
              "    </tr>\n",
              "  </tbody>\n",
              "</table>\n",
              "</div>"
            ],
            "text/plain": [
              "                  High         Low  ...     Volume   Adj Close\n",
              "Date                                ...                       \n",
              "2015-01-02  529.815369  522.665039  ...  1447500.0  523.373108\n",
              "2015-01-05  522.894409  511.655243  ...  2059800.0  512.463013\n",
              "2015-01-06  514.761719  499.678131  ...  2899900.0  500.585632\n",
              "2015-01-07  505.855164  498.281952  ...  2065000.0  499.727997\n",
              "2015-01-08  502.101471  489.655640  ...  3353500.0  501.303680\n",
              "\n",
              "[5 rows x 6 columns]"
            ]
          },
          "metadata": {
            "tags": []
          },
          "execution_count": 2
        }
      ]
    },
    {
      "cell_type": "code",
      "metadata": {
        "id": "TTiBkX93F9gy",
        "colab_type": "code",
        "outputId": "60025ba6-33ab-432d-ff78-74cc0434d0d6",
        "colab": {
          "base_uri": "https://localhost:8080/",
          "height": 450
        }
      },
      "source": [
        "df"
      ],
      "execution_count": 0,
      "outputs": [
        {
          "output_type": "execute_result",
          "data": {
            "text/html": [
              "<div>\n",
              "<style scoped>\n",
              "    .dataframe tbody tr th:only-of-type {\n",
              "        vertical-align: middle;\n",
              "    }\n",
              "\n",
              "    .dataframe tbody tr th {\n",
              "        vertical-align: top;\n",
              "    }\n",
              "\n",
              "    .dataframe thead th {\n",
              "        text-align: right;\n",
              "    }\n",
              "</style>\n",
              "<table border=\"1\" class=\"dataframe\">\n",
              "  <thead>\n",
              "    <tr style=\"text-align: right;\">\n",
              "      <th></th>\n",
              "      <th>High</th>\n",
              "      <th>Low</th>\n",
              "      <th>Open</th>\n",
              "      <th>Close</th>\n",
              "      <th>Volume</th>\n",
              "      <th>Adj Close</th>\n",
              "    </tr>\n",
              "    <tr>\n",
              "      <th>Date</th>\n",
              "      <th></th>\n",
              "      <th></th>\n",
              "      <th></th>\n",
              "      <th></th>\n",
              "      <th></th>\n",
              "      <th></th>\n",
              "    </tr>\n",
              "  </thead>\n",
              "  <tbody>\n",
              "    <tr>\n",
              "      <th>2015-01-02</th>\n",
              "      <td>529.815369</td>\n",
              "      <td>522.665039</td>\n",
              "      <td>527.561584</td>\n",
              "      <td>523.373108</td>\n",
              "      <td>1447500.0</td>\n",
              "      <td>523.373108</td>\n",
              "    </tr>\n",
              "    <tr>\n",
              "      <th>2015-01-05</th>\n",
              "      <td>522.894409</td>\n",
              "      <td>511.655243</td>\n",
              "      <td>521.827332</td>\n",
              "      <td>512.463013</td>\n",
              "      <td>2059800.0</td>\n",
              "      <td>512.463013</td>\n",
              "    </tr>\n",
              "    <tr>\n",
              "      <th>2015-01-06</th>\n",
              "      <td>514.761719</td>\n",
              "      <td>499.678131</td>\n",
              "      <td>513.589966</td>\n",
              "      <td>500.585632</td>\n",
              "      <td>2899900.0</td>\n",
              "      <td>500.585632</td>\n",
              "    </tr>\n",
              "    <tr>\n",
              "      <th>2015-01-07</th>\n",
              "      <td>505.855164</td>\n",
              "      <td>498.281952</td>\n",
              "      <td>505.611847</td>\n",
              "      <td>499.727997</td>\n",
              "      <td>2065000.0</td>\n",
              "      <td>499.727997</td>\n",
              "    </tr>\n",
              "    <tr>\n",
              "      <th>2015-01-08</th>\n",
              "      <td>502.101471</td>\n",
              "      <td>489.655640</td>\n",
              "      <td>496.626526</td>\n",
              "      <td>501.303680</td>\n",
              "      <td>3353500.0</td>\n",
              "      <td>501.303680</td>\n",
              "    </tr>\n",
              "    <tr>\n",
              "      <th>...</th>\n",
              "      <td>...</td>\n",
              "      <td>...</td>\n",
              "      <td>...</td>\n",
              "      <td>...</td>\n",
              "      <td>...</td>\n",
              "      <td>...</td>\n",
              "    </tr>\n",
              "    <tr>\n",
              "      <th>2019-12-24</th>\n",
              "      <td>1350.260010</td>\n",
              "      <td>1342.780029</td>\n",
              "      <td>1348.500000</td>\n",
              "      <td>1343.560059</td>\n",
              "      <td>347500.0</td>\n",
              "      <td>1343.560059</td>\n",
              "    </tr>\n",
              "    <tr>\n",
              "      <th>2019-12-26</th>\n",
              "      <td>1361.327026</td>\n",
              "      <td>1344.469971</td>\n",
              "      <td>1346.170044</td>\n",
              "      <td>1360.400024</td>\n",
              "      <td>667500.0</td>\n",
              "      <td>1360.400024</td>\n",
              "    </tr>\n",
              "    <tr>\n",
              "      <th>2019-12-27</th>\n",
              "      <td>1364.530029</td>\n",
              "      <td>1349.310059</td>\n",
              "      <td>1362.989990</td>\n",
              "      <td>1351.890015</td>\n",
              "      <td>1038400.0</td>\n",
              "      <td>1351.890015</td>\n",
              "    </tr>\n",
              "    <tr>\n",
              "      <th>2019-12-30</th>\n",
              "      <td>1353.000000</td>\n",
              "      <td>1334.020020</td>\n",
              "      <td>1350.000000</td>\n",
              "      <td>1336.140015</td>\n",
              "      <td>1050900.0</td>\n",
              "      <td>1336.140015</td>\n",
              "    </tr>\n",
              "    <tr>\n",
              "      <th>2019-12-31</th>\n",
              "      <td>1338.000000</td>\n",
              "      <td>1329.084961</td>\n",
              "      <td>1330.109985</td>\n",
              "      <td>1337.020020</td>\n",
              "      <td>961800.0</td>\n",
              "      <td>1337.020020</td>\n",
              "    </tr>\n",
              "  </tbody>\n",
              "</table>\n",
              "<p>1258 rows × 6 columns</p>\n",
              "</div>"
            ],
            "text/plain": [
              "                   High          Low  ...     Volume    Adj Close\n",
              "Date                                  ...                        \n",
              "2015-01-02   529.815369   522.665039  ...  1447500.0   523.373108\n",
              "2015-01-05   522.894409   511.655243  ...  2059800.0   512.463013\n",
              "2015-01-06   514.761719   499.678131  ...  2899900.0   500.585632\n",
              "2015-01-07   505.855164   498.281952  ...  2065000.0   499.727997\n",
              "2015-01-08   502.101471   489.655640  ...  3353500.0   501.303680\n",
              "...                 ...          ...  ...        ...          ...\n",
              "2019-12-24  1350.260010  1342.780029  ...   347500.0  1343.560059\n",
              "2019-12-26  1361.327026  1344.469971  ...   667500.0  1360.400024\n",
              "2019-12-27  1364.530029  1349.310059  ...  1038400.0  1351.890015\n",
              "2019-12-30  1353.000000  1334.020020  ...  1050900.0  1336.140015\n",
              "2019-12-31  1338.000000  1329.084961  ...   961800.0  1337.020020\n",
              "\n",
              "[1258 rows x 6 columns]"
            ]
          },
          "metadata": {
            "tags": []
          },
          "execution_count": 3
        }
      ]
    },
    {
      "cell_type": "markdown",
      "metadata": {
        "id": "X169Hp9qKLrb",
        "colab_type": "text"
      },
      "source": [
        "#  Get X from Dataframe\n",
        "Time series to train the model is the 'Close' price.  "
      ]
    },
    {
      "cell_type": "code",
      "metadata": {
        "id": "AXv9O8YDGTBj",
        "colab_type": "code",
        "colab": {}
      },
      "source": [
        "data = df.loc[:, ['Close']].values"
      ],
      "execution_count": 0,
      "outputs": []
    },
    {
      "cell_type": "code",
      "metadata": {
        "id": "a4IqNf-SDIQe",
        "colab_type": "code",
        "outputId": "ef89f944-323a-41ae-c8d3-5b1197e2e619",
        "colab": {
          "base_uri": "https://localhost:8080/",
          "height": 34
        }
      },
      "source": [
        "data.shape"
      ],
      "execution_count": 0,
      "outputs": [
        {
          "output_type": "execute_result",
          "data": {
            "text/plain": [
              "(1258, 1)"
            ]
          },
          "metadata": {
            "tags": []
          },
          "execution_count": 5
        }
      ]
    },
    {
      "cell_type": "markdown",
      "metadata": {
        "id": "COmHF16oKSkZ",
        "colab_type": "text"
      },
      "source": [
        "# Data Preprocessing"
      ]
    },
    {
      "cell_type": "code",
      "metadata": {
        "id": "TcahzmbtKII0",
        "colab_type": "code",
        "colab": {}
      },
      "source": [
        "# Feature Scaling on the data\n",
        "from sklearn.preprocessing import MinMaxScaler\n",
        "sc = MinMaxScaler(feature_range = (0,1))\n",
        "data_scaled = sc.fit_transform(data)"
      ],
      "execution_count": 0,
      "outputs": []
    },
    {
      "cell_type": "code",
      "metadata": {
        "id": "93OoLrgfLW0s",
        "colab_type": "code",
        "outputId": "1c6878d0-4c62-45e2-9545-39722a61e089",
        "colab": {
          "base_uri": "https://localhost:8080/",
          "height": 153
        }
      },
      "source": [
        "# check the shape of preprocessed data\n",
        "print(data_scaled.shape)\n",
        "data_scaled"
      ],
      "execution_count": 0,
      "outputs": [
        {
          "output_type": "stream",
          "text": [
            "(1258, 1)\n"
          ],
          "name": "stdout"
        },
        {
          "output_type": "execute_result",
          "data": {
            "text/plain": [
              "array([[0.03698029],\n",
              "       [0.0244395 ],\n",
              "       [0.01078684],\n",
              "       ...,\n",
              "       [0.98933292],\n",
              "       [0.97122881],\n",
              "       [0.97224035]])"
            ]
          },
          "metadata": {
            "tags": []
          },
          "execution_count": 7
        }
      ]
    },
    {
      "cell_type": "markdown",
      "metadata": {
        "id": "TS8a3yqX6_jt",
        "colab_type": "text"
      },
      "source": [
        "# Create timestep sequence\n",
        "X : n_steps sequence of data  \n",
        "y : 1 step output"
      ]
    },
    {
      "cell_type": "code",
      "metadata": {
        "id": "AJzgwyC574XA",
        "colab_type": "code",
        "colab": {}
      },
      "source": [
        "def create_sequence(data, n_steps):\n",
        "  X = []\n",
        "  y = []\n",
        "  for i in range(n_steps, len(data)):\n",
        "    X.append(data[i - n_steps:i])\n",
        "    y.append(data[i])\n",
        "  return np.array(X), np.array(y)"
      ],
      "execution_count": 0,
      "outputs": []
    },
    {
      "cell_type": "code",
      "metadata": {
        "id": "ql8oMIa_83oF",
        "colab_type": "code",
        "outputId": "78a7d0d3-b2b3-435c-f9b1-5bc116390d04",
        "colab": {
          "base_uri": "https://localhost:8080/",
          "height": 102
        }
      },
      "source": [
        "# choose number of timesteps, subsequence and features\n",
        "n_steps = 60\n",
        "n_subsequence = 6\n",
        "n_substeps = int(n_steps/n_subsequence)\n",
        "n_features = 1\n",
        "# Create the sequence and the output\n",
        "X,y = create_sequence(data_scaled, n_steps)\n",
        "print('X shape : ',X.shape)\n",
        "print('y shape : ',y.shape)\n",
        "\n",
        "# reshape input for CNN-LSTM model : [samples, subsequence, timesteps of subsequence, features]\n",
        "X = X.reshape((X.shape[0], n_subsequence, n_substeps, n_features))\n",
        "print('After reshape')\n",
        "print('X shape : ',X.shape)\n",
        "print('y shape : ',y.shape)"
      ],
      "execution_count": 0,
      "outputs": [
        {
          "output_type": "stream",
          "text": [
            "X shape :  (1198, 60, 1)\n",
            "y shape :  (1198, 1)\n",
            "After reshape\n",
            "X shape :  (1198, 6, 10, 1)\n",
            "y shape :  (1198, 1)\n"
          ],
          "name": "stdout"
        }
      ]
    },
    {
      "cell_type": "code",
      "metadata": {
        "id": "JrtiVsPNR4Ad",
        "colab_type": "code",
        "outputId": "1af9f42c-4216-4c17-aeeb-edccfd177852",
        "colab": {
          "base_uri": "https://localhost:8080/",
          "height": 1000
        }
      },
      "source": [
        "print(X[0],'==>',y[0])"
      ],
      "execution_count": 0,
      "outputs": [
        {
          "output_type": "stream",
          "text": [
            "[[[0.03698029]\n",
            "  [0.0244395 ]\n",
            "  [0.01078684]\n",
            "  [0.00980102]\n",
            "  [0.01161222]\n",
            "  [0.00414966]\n",
            "  [0.        ]\n",
            "  [0.00416113]\n",
            "  [0.00953737]\n",
            "  [0.01059198]]\n",
            "\n",
            " [[0.01780232]\n",
            "  [0.01644967]\n",
            "  [0.02921971]\n",
            "  [0.04796196]\n",
            "  [0.05433553]\n",
            "  [0.04890201]\n",
            "  [0.02989603]\n",
            "  [0.02000327]\n",
            "  [0.02075982]\n",
            "  [0.04811105]]\n",
            "\n",
            " [[0.04118724]\n",
            "  [0.04205846]\n",
            "  [0.03463028]\n",
            "  [0.04015557]\n",
            "  [0.04407599]\n",
            "  [0.04044216]\n",
            "  [0.05088509]\n",
            "  [0.04977316]\n",
            "  [0.05775158]\n",
            "  [0.06472121]]\n",
            "\n",
            " [[0.05764838]\n",
            "  [0.05404893]\n",
            "  [0.05768276]\n",
            "  [0.05318922]\n",
            "  [0.0451191 ]\n",
            "  [0.04991074]\n",
            "  [0.05882914]\n",
            "  [0.07213788]\n",
            "  [0.07548511]\n",
            "  [0.09031852]]\n",
            "\n",
            " [[0.09295505]\n",
            "  [0.09264552]\n",
            "  [0.09489232]\n",
            "  [0.08612869]\n",
            "  [0.08746415]\n",
            "  [0.07159914]\n",
            "  [0.06720873]\n",
            "  [0.07217225]\n",
            "  [0.06278394]\n",
            "  [0.07102595]]\n",
            "\n",
            " [[0.06681893]\n",
            "  [0.07674606]\n",
            "  [0.07501512]\n",
            "  [0.07773192]\n",
            "  [0.0759551 ]\n",
            "  [0.08900025]\n",
            "  [0.07592647]\n",
            "  [0.07178253]\n",
            "  [0.06395319]\n",
            "  [0.06818308]]] ==> [0.06356339]\n"
          ],
          "name": "stdout"
        }
      ]
    },
    {
      "cell_type": "markdown",
      "metadata": {
        "id": "p0Be9s7_-cI2",
        "colab_type": "text"
      },
      "source": [
        "# CNN LSTM model\n",
        "CNN layer \n",
        "  - extracting and learning features from subsequence of input  \n",
        "  - need to be wrapped in TimeDistributed layer  \n",
        "  \n",
        "LSTM layer  \n",
        "  - interpreting the features  "
      ]
    },
    {
      "cell_type": "code",
      "metadata": {
        "id": "IKpC5p3l-lyY",
        "colab_type": "code",
        "outputId": "e421385e-e60e-4896-8ee7-8251c085f34c",
        "colab": {
          "base_uri": "https://localhost:8080/",
          "height": 34
        }
      },
      "source": [
        "from keras.models import Sequential\n",
        "from keras.layers import Dense, LSTM, TimeDistributed, Conv1D, MaxPooling1D, Flatten"
      ],
      "execution_count": 0,
      "outputs": [
        {
          "output_type": "stream",
          "text": [
            "Using TensorFlow backend.\n"
          ],
          "name": "stderr"
        }
      ]
    },
    {
      "cell_type": "code",
      "metadata": {
        "id": "zoI3TvCx-UMl",
        "colab_type": "code",
        "colab": {}
      },
      "source": [
        "# define the model\n",
        "model = Sequential()\n",
        "model.add(TimeDistributed(Conv1D(filters=64, kernel_size=1, activation='relu'), input_shape=(None, n_substeps, n_features)))\n",
        "model.add(TimeDistributed(MaxPooling1D(pool_size=2)))\n",
        "model.add(TimeDistributed(Flatten()))\n",
        "model.add(LSTM(units=50, activation='relu'))\n",
        "model.add(Dense(units=1))\n",
        "model.compile(optimizer='adam', loss='mse')"
      ],
      "execution_count": 0,
      "outputs": []
    },
    {
      "cell_type": "code",
      "metadata": {
        "id": "g7dbdmLOTyez",
        "colab_type": "code",
        "outputId": "15d8b8e7-5e66-4aa2-d1d1-8cd67c1113bf",
        "colab": {
          "base_uri": "https://localhost:8080/",
          "height": 323
        }
      },
      "source": [
        "model.summary()"
      ],
      "execution_count": 0,
      "outputs": [
        {
          "output_type": "stream",
          "text": [
            "Model: \"sequential_1\"\n",
            "_________________________________________________________________\n",
            "Layer (type)                 Output Shape              Param #   \n",
            "=================================================================\n",
            "time_distributed_1 (TimeDist (None, None, 10, 64)      128       \n",
            "_________________________________________________________________\n",
            "time_distributed_2 (TimeDist (None, None, 5, 64)       0         \n",
            "_________________________________________________________________\n",
            "time_distributed_3 (TimeDist (None, None, 320)         0         \n",
            "_________________________________________________________________\n",
            "lstm_1 (LSTM)                (None, 50)                74200     \n",
            "_________________________________________________________________\n",
            "dense_1 (Dense)              (None, 1)                 51        \n",
            "=================================================================\n",
            "Total params: 74,379\n",
            "Trainable params: 74,379\n",
            "Non-trainable params: 0\n",
            "_________________________________________________________________\n"
          ],
          "name": "stdout"
        }
      ]
    },
    {
      "cell_type": "markdown",
      "metadata": {
        "id": "aqovR-qWCKXS",
        "colab_type": "text"
      },
      "source": [
        "# Train the model"
      ]
    },
    {
      "cell_type": "code",
      "metadata": {
        "id": "BAP-LmwjEW5i",
        "colab_type": "code",
        "colab": {}
      },
      "source": [
        "history = model.fit(X, y, epochs = 200, verbose = 0)"
      ],
      "execution_count": 0,
      "outputs": []
    },
    {
      "cell_type": "code",
      "metadata": {
        "id": "pQqVP_DYCvOi",
        "colab_type": "code",
        "outputId": "e9050ab7-b01b-4817-e18b-5dff2c6ba94e",
        "colab": {
          "base_uri": "https://localhost:8080/",
          "height": 312
        }
      },
      "source": [
        "score = history.history['loss'][0]\n",
        "print('training loss : ', score)\n",
        "\n",
        "plt.plot(history.history['loss'])\n",
        "plt.title('Training MSE')\n",
        "plt.xlabel('epochs')\n",
        "plt.ylabel('mse')\n",
        "plt.show()"
      ],
      "execution_count": 0,
      "outputs": [
        {
          "output_type": "stream",
          "text": [
            "training loss :  0.03677880019921256\n"
          ],
          "name": "stdout"
        },
        {
          "output_type": "display_data",
          "data": {
            "image/png": "[encoded data removed]",
            "text/plain": [
              "<Figure size 432x288 with 1 Axes>"
            ]
          },
          "metadata": {
            "tags": [],
            "needs_background": "light"
          }
        }
      ]
    },
    {
      "cell_type": "code",
      "metadata": {
        "id": "5ZfkLAedBMcs",
        "colab_type": "code",
        "outputId": "a97e8ffb-5345-42e3-f35f-794a53a50b36",
        "colab": {
          "base_uri": "https://localhost:8080/",
          "height": 316
        }
      },
      "source": [
        "y_pred = model.predict(X)\n",
        "\n",
        "# inverse transform the price\n",
        "y = sc.inverse_transform(y.reshape(len(y),1))\n",
        "y_pred = sc.inverse_transform(y_pred.reshape(len(y_pred),1))\n",
        "\n",
        "# calculate rmse\n",
        "from sklearn.metrics import mean_squared_error\n",
        "from math import sqrt\n",
        "\n",
        "mse = mean_squared_error(y, y_pred)\n",
        "rmse = sqrt(mse)\n",
        "print('Model Evaluation : ')\n",
        "print('MSE : ', mse) \n",
        "print('RMSE : ', rmse)\n",
        "\n",
        "# plot\n",
        "plt.figure(figsize=(12,4))\n",
        "plt.plot(y[-120:])\n",
        "plt.plot(y_pred[-120:])\n",
        "plt.legend(['y','y_pred'])\n",
        "plt.show()"
      ],
      "execution_count": 0,
      "outputs": [
        {
          "output_type": "stream",
          "text": [
            "Model Evaluation : \n",
            "MSE :  276.6601467087448\n",
            "RMSE :  16.63310394089885\n"
          ],
          "name": "stdout"
        },
        {
          "output_type": "display_data",
          "data": {
            "image/png": "[encoded data removed]",
            "text/plain": [
              "<Figure size 864x288 with 1 Axes>"
            ]
          },
          "metadata": {
            "tags": [],
            "needs_background": "light"
          }
        }
      ]
    },
    {
      "cell_type": "markdown",
      "metadata": {
        "id": "IONAsz-VjimY",
        "colab_type": "text"
      },
      "source": [
        "# Model Evaluation : walk forward validation"
      ]
    },
    {
      "cell_type": "code",
      "metadata": {
        "id": "BOzBIaWeked_",
        "colab_type": "code",
        "outputId": "f6fc3a8f-fd37-4205-84ce-edef8b2a584c",
        "colab": {
          "base_uri": "https://localhost:8080/",
          "height": 51
        }
      },
      "source": [
        "# get the test set : Jan - March of 2020\n",
        "df = DataReader('GOOG', data_source='yahoo', start='2020-01-01', end='2020-03-31')\n",
        "test = df.loc[:,['Close']].values\n",
        "\n",
        "# feature scaling on the test set\n",
        "test = sc.transform(test)\n",
        "\n",
        "# seed the last n_steps in training dataset\n",
        "history = data_scaled[-n_steps:]\n",
        "\n",
        "# create timestep sequence for the training set\n",
        "test = np.concatenate((history, test), axis=0)\n",
        "X_test, y_test = create_sequence(test, n_steps)\n",
        "X_test = X_test.reshape((X_test.shape[0], n_subsequence, n_substeps, n_features))\n",
        "\n",
        "print('X_test shape : ',X_test.shape)\n",
        "print('y_test shape : ',y_test.shape)"
      ],
      "execution_count": 0,
      "outputs": [
        {
          "output_type": "stream",
          "text": [
            "X_test shape :  (62, 6, 10, 1)\n",
            "y_test shape :  (62, 1)\n"
          ],
          "name": "stdout"
        }
      ]
    },
    {
      "cell_type": "code",
      "metadata": {
        "id": "WMTdZZGinfZd",
        "colab_type": "code",
        "colab": {}
      },
      "source": [
        "# Make predictions\n",
        "y_pred = model.predict(X_test)"
      ],
      "execution_count": 0,
      "outputs": []
    },
    {
      "cell_type": "code",
      "metadata": {
        "id": "AQTAo4EBpUEA",
        "colab_type": "code",
        "colab": {}
      },
      "source": [
        "# inverse transform y_test and y_pred \n",
        "y_test = sc.inverse_transform(y_test)\n",
        "y_pred = sc.inverse_transform(y_pred)"
      ],
      "execution_count": 0,
      "outputs": []
    },
    {
      "cell_type": "code",
      "metadata": {
        "id": "CD_OEBcspHYx",
        "colab_type": "code",
        "outputId": "202819bd-165c-45cf-d0c2-0ea951232b87",
        "colab": {
          "base_uri": "https://localhost:8080/",
          "height": 316
        }
      },
      "source": [
        "# calculate rmse\n",
        "mse = mean_squared_error(y_test, y_pred)\n",
        "rmse = sqrt(mse)\n",
        "print('Model Evaluation : ')\n",
        "print('MSE : ', mse) \n",
        "print('RMSE : ', rmse)\n",
        "\n",
        "# plot\n",
        "plt.figure(figsize=(12,4))\n",
        "plt.plot(y_test)\n",
        "plt.plot(y_pred)\n",
        "plt.legend(['y_test','y_pred'])\n",
        "plt.show()"
      ],
      "execution_count": 0,
      "outputs": [
        {
          "output_type": "stream",
          "text": [
            "Model Evaluation : \n",
            "MSE :  2247.190031868799\n",
            "RMSE :  47.404535984110204\n"
          ],
          "name": "stdout"
        },
        {
          "output_type": "display_data",
          "data": {
            "image/png": "[encoded data removed]",
            "text/plain": [
              "<Figure size 864x288 with 1 Axes>"
            ]
          },
          "metadata": {
            "tags": [],
            "needs_background": "light"
          }
        }
      ]
    }
  ]
}
