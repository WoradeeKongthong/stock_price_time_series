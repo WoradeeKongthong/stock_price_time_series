{
  "nbformat": 4,
  "nbformat_minor": 0,
  "metadata": {
    "colab": {
      "name": "07_stockPrice_multivariateCNN(KerasSequenceAPI)_singleStepOutput.ipynb",
      "provenance": [],
      "toc_visible": true,
      "authorship_tag": "ABX9TyPRG+IuAu7uI6OBAi5Kg8Go",
      "include_colab_link": true
    },
    "kernelspec": {
      "name": "python3",
      "display_name": "Python 3"
    }
  },
  "cells": [
    {
      "cell_type": "markdown",
      "metadata": {
        "id": "view-in-github",
        "colab_type": "text"
      },
      "source": [
        "<a href=\"https://colab.research.google.com/github/WoradeeKongthong/stock_price_time_series/blob/master/07_stockPrice_multivariateCNN(KerasSequenceAPI)_singleStepOutput.ipynb\" target=\"_parent\"><img src=\"https://colab.research.google.com/assets/colab-badge.svg\" alt=\"Open In Colab\"/></a>"
      ]
    },
    {
      "cell_type": "markdown",
      "metadata": {
        "id": "UcH5m7wHJ5Uz",
        "colab_type": "text"
      },
      "source": [
        "# **CNN : time series forcasting with multiple features input and 1 step output (Keras Sequential API)**\n"
      ]
    },
    {
      "cell_type": "code",
      "metadata": {
        "id": "lijY7XZfCGwl",
        "colab_type": "code",
        "outputId": "379601a5-6544-42c5-ba64-88a5718bb8cc",
        "colab": {
          "base_uri": "https://localhost:8080/",
          "height": 71
        }
      },
      "source": [
        "import numpy as np\n",
        "import pandas as pd\n",
        "from pandas_datareader import data\n",
        "import matplotlib.pyplot as plt\n",
        "import seaborn as sns\n",
        "\n",
        "% matplotlib inline"
      ],
      "execution_count": 0,
      "outputs": [
        {
          "output_type": "stream",
          "text": [
            "/usr/local/lib/python3.6/dist-packages/pandas_datareader/compat/__init__.py:7: FutureWarning: pandas.util.testing is deprecated. Use the functions in the public API at pandas.testing instead.\n",
            "  from pandas.util.testing import assert_frame_equal\n"
          ],
          "name": "stderr"
        }
      ]
    },
    {
      "cell_type": "markdown",
      "metadata": {
        "id": "YAIL4m65D7tx",
        "colab_type": "text"
      },
      "source": [
        "# Dataset : google stock price (2015-2019) from yahoo.com"
      ]
    },
    {
      "cell_type": "code",
      "metadata": {
        "id": "CqssyY4QCSRa",
        "colab_type": "code",
        "outputId": "99432061-e7a5-4de0-b241-8d8a24e5dc15",
        "colab": {
          "base_uri": "https://localhost:8080/",
          "height": 235
        }
      },
      "source": [
        "df = data.DataReader('GOOG', data_source='yahoo', start='2015-01-01', end='2019-12-31')\n",
        "df.head()"
      ],
      "execution_count": 0,
      "outputs": [
        {
          "output_type": "execute_result",
          "data": {
            "text/html": [
              "<div>\n",
              "<style scoped>\n",
              "    .dataframe tbody tr th:only-of-type {\n",
              "        vertical-align: middle;\n",
              "    }\n",
              "\n",
              "    .dataframe tbody tr th {\n",
              "        vertical-align: top;\n",
              "    }\n",
              "\n",
              "    .dataframe thead th {\n",
              "        text-align: right;\n",
              "    }\n",
              "</style>\n",
              "<table border=\"1\" class=\"dataframe\">\n",
              "  <thead>\n",
              "    <tr style=\"text-align: right;\">\n",
              "      <th></th>\n",
              "      <th>High</th>\n",
              "      <th>Low</th>\n",
              "      <th>Open</th>\n",
              "      <th>Close</th>\n",
              "      <th>Volume</th>\n",
              "      <th>Adj Close</th>\n",
              "    </tr>\n",
              "    <tr>\n",
              "      <th>Date</th>\n",
              "      <th></th>\n",
              "      <th></th>\n",
              "      <th></th>\n",
              "      <th></th>\n",
              "      <th></th>\n",
              "      <th></th>\n",
              "    </tr>\n",
              "  </thead>\n",
              "  <tbody>\n",
              "    <tr>\n",
              "      <th>2015-01-02</th>\n",
              "      <td>529.815369</td>\n",
              "      <td>522.665039</td>\n",
              "      <td>527.561584</td>\n",
              "      <td>523.373108</td>\n",
              "      <td>1447500.0</td>\n",
              "      <td>523.373108</td>\n",
              "    </tr>\n",
              "    <tr>\n",
              "      <th>2015-01-05</th>\n",
              "      <td>522.894409</td>\n",
              "      <td>511.655243</td>\n",
              "      <td>521.827332</td>\n",
              "      <td>512.463013</td>\n",
              "      <td>2059800.0</td>\n",
              "      <td>512.463013</td>\n",
              "    </tr>\n",
              "    <tr>\n",
              "      <th>2015-01-06</th>\n",
              "      <td>514.761719</td>\n",
              "      <td>499.678131</td>\n",
              "      <td>513.589966</td>\n",
              "      <td>500.585632</td>\n",
              "      <td>2899900.0</td>\n",
              "      <td>500.585632</td>\n",
              "    </tr>\n",
              "    <tr>\n",
              "      <th>2015-01-07</th>\n",
              "      <td>505.855164</td>\n",
              "      <td>498.281952</td>\n",
              "      <td>505.611847</td>\n",
              "      <td>499.727997</td>\n",
              "      <td>2065000.0</td>\n",
              "      <td>499.727997</td>\n",
              "    </tr>\n",
              "    <tr>\n",
              "      <th>2015-01-08</th>\n",
              "      <td>502.101471</td>\n",
              "      <td>489.655640</td>\n",
              "      <td>496.626526</td>\n",
              "      <td>501.303680</td>\n",
              "      <td>3353500.0</td>\n",
              "      <td>501.303680</td>\n",
              "    </tr>\n",
              "  </tbody>\n",
              "</table>\n",
              "</div>"
            ],
            "text/plain": [
              "                  High         Low  ...     Volume   Adj Close\n",
              "Date                                ...                       \n",
              "2015-01-02  529.815369  522.665039  ...  1447500.0  523.373108\n",
              "2015-01-05  522.894409  511.655243  ...  2059800.0  512.463013\n",
              "2015-01-06  514.761719  499.678131  ...  2899900.0  500.585632\n",
              "2015-01-07  505.855164  498.281952  ...  2065000.0  499.727997\n",
              "2015-01-08  502.101471  489.655640  ...  3353500.0  501.303680\n",
              "\n",
              "[5 rows x 6 columns]"
            ]
          },
          "metadata": {
            "tags": []
          },
          "execution_count": 2
        }
      ]
    },
    {
      "cell_type": "code",
      "metadata": {
        "id": "TTiBkX93F9gy",
        "colab_type": "code",
        "outputId": "4815d6eb-3aa7-420b-88ca-dcaa6975e52a",
        "colab": {
          "base_uri": "https://localhost:8080/",
          "height": 450
        }
      },
      "source": [
        "df"
      ],
      "execution_count": 0,
      "outputs": [
        {
          "output_type": "execute_result",
          "data": {
            "text/html": [
              "<div>\n",
              "<style scoped>\n",
              "    .dataframe tbody tr th:only-of-type {\n",
              "        vertical-align: middle;\n",
              "    }\n",
              "\n",
              "    .dataframe tbody tr th {\n",
              "        vertical-align: top;\n",
              "    }\n",
              "\n",
              "    .dataframe thead th {\n",
              "        text-align: right;\n",
              "    }\n",
              "</style>\n",
              "<table border=\"1\" class=\"dataframe\">\n",
              "  <thead>\n",
              "    <tr style=\"text-align: right;\">\n",
              "      <th></th>\n",
              "      <th>High</th>\n",
              "      <th>Low</th>\n",
              "      <th>Open</th>\n",
              "      <th>Close</th>\n",
              "      <th>Volume</th>\n",
              "      <th>Adj Close</th>\n",
              "    </tr>\n",
              "    <tr>\n",
              "      <th>Date</th>\n",
              "      <th></th>\n",
              "      <th></th>\n",
              "      <th></th>\n",
              "      <th></th>\n",
              "      <th></th>\n",
              "      <th></th>\n",
              "    </tr>\n",
              "  </thead>\n",
              "  <tbody>\n",
              "    <tr>\n",
              "      <th>2015-01-02</th>\n",
              "      <td>529.815369</td>\n",
              "      <td>522.665039</td>\n",
              "      <td>527.561584</td>\n",
              "      <td>523.373108</td>\n",
              "      <td>1447500.0</td>\n",
              "      <td>523.373108</td>\n",
              "    </tr>\n",
              "    <tr>\n",
              "      <th>2015-01-05</th>\n",
              "      <td>522.894409</td>\n",
              "      <td>511.655243</td>\n",
              "      <td>521.827332</td>\n",
              "      <td>512.463013</td>\n",
              "      <td>2059800.0</td>\n",
              "      <td>512.463013</td>\n",
              "    </tr>\n",
              "    <tr>\n",
              "      <th>2015-01-06</th>\n",
              "      <td>514.761719</td>\n",
              "      <td>499.678131</td>\n",
              "      <td>513.589966</td>\n",
              "      <td>500.585632</td>\n",
              "      <td>2899900.0</td>\n",
              "      <td>500.585632</td>\n",
              "    </tr>\n",
              "    <tr>\n",
              "      <th>2015-01-07</th>\n",
              "      <td>505.855164</td>\n",
              "      <td>498.281952</td>\n",
              "      <td>505.611847</td>\n",
              "      <td>499.727997</td>\n",
              "      <td>2065000.0</td>\n",
              "      <td>499.727997</td>\n",
              "    </tr>\n",
              "    <tr>\n",
              "      <th>2015-01-08</th>\n",
              "      <td>502.101471</td>\n",
              "      <td>489.655640</td>\n",
              "      <td>496.626526</td>\n",
              "      <td>501.303680</td>\n",
              "      <td>3353500.0</td>\n",
              "      <td>501.303680</td>\n",
              "    </tr>\n",
              "    <tr>\n",
              "      <th>...</th>\n",
              "      <td>...</td>\n",
              "      <td>...</td>\n",
              "      <td>...</td>\n",
              "      <td>...</td>\n",
              "      <td>...</td>\n",
              "      <td>...</td>\n",
              "    </tr>\n",
              "    <tr>\n",
              "      <th>2019-12-24</th>\n",
              "      <td>1350.260010</td>\n",
              "      <td>1342.780029</td>\n",
              "      <td>1348.500000</td>\n",
              "      <td>1343.560059</td>\n",
              "      <td>347500.0</td>\n",
              "      <td>1343.560059</td>\n",
              "    </tr>\n",
              "    <tr>\n",
              "      <th>2019-12-26</th>\n",
              "      <td>1361.327026</td>\n",
              "      <td>1344.469971</td>\n",
              "      <td>1346.170044</td>\n",
              "      <td>1360.400024</td>\n",
              "      <td>667500.0</td>\n",
              "      <td>1360.400024</td>\n",
              "    </tr>\n",
              "    <tr>\n",
              "      <th>2019-12-27</th>\n",
              "      <td>1364.530029</td>\n",
              "      <td>1349.310059</td>\n",
              "      <td>1362.989990</td>\n",
              "      <td>1351.890015</td>\n",
              "      <td>1038400.0</td>\n",
              "      <td>1351.890015</td>\n",
              "    </tr>\n",
              "    <tr>\n",
              "      <th>2019-12-30</th>\n",
              "      <td>1353.000000</td>\n",
              "      <td>1334.020020</td>\n",
              "      <td>1350.000000</td>\n",
              "      <td>1336.140015</td>\n",
              "      <td>1050900.0</td>\n",
              "      <td>1336.140015</td>\n",
              "    </tr>\n",
              "    <tr>\n",
              "      <th>2019-12-31</th>\n",
              "      <td>1338.000000</td>\n",
              "      <td>1329.084961</td>\n",
              "      <td>1330.109985</td>\n",
              "      <td>1337.020020</td>\n",
              "      <td>961800.0</td>\n",
              "      <td>1337.020020</td>\n",
              "    </tr>\n",
              "  </tbody>\n",
              "</table>\n",
              "<p>1258 rows × 6 columns</p>\n",
              "</div>"
            ],
            "text/plain": [
              "                   High          Low  ...     Volume    Adj Close\n",
              "Date                                  ...                        \n",
              "2015-01-02   529.815369   522.665039  ...  1447500.0   523.373108\n",
              "2015-01-05   522.894409   511.655243  ...  2059800.0   512.463013\n",
              "2015-01-06   514.761719   499.678131  ...  2899900.0   500.585632\n",
              "2015-01-07   505.855164   498.281952  ...  2065000.0   499.727997\n",
              "2015-01-08   502.101471   489.655640  ...  3353500.0   501.303680\n",
              "...                 ...          ...  ...        ...          ...\n",
              "2019-12-24  1350.260010  1342.780029  ...   347500.0  1343.560059\n",
              "2019-12-26  1361.327026  1344.469971  ...   667500.0  1360.400024\n",
              "2019-12-27  1364.530029  1349.310059  ...  1038400.0  1351.890015\n",
              "2019-12-30  1353.000000  1334.020020  ...  1050900.0  1336.140015\n",
              "2019-12-31  1338.000000  1329.084961  ...   961800.0  1337.020020\n",
              "\n",
              "[1258 rows x 6 columns]"
            ]
          },
          "metadata": {
            "tags": []
          },
          "execution_count": 3
        }
      ]
    },
    {
      "cell_type": "markdown",
      "metadata": {
        "id": "X169Hp9qKLrb",
        "colab_type": "text"
      },
      "source": [
        "#  Get X from Dataframe\n",
        "Time series to train the model is the 'Open' and 'Close' price.  \n",
        "The target is the next day 'Close' price."
      ]
    },
    {
      "cell_type": "code",
      "metadata": {
        "id": "AXv9O8YDGTBj",
        "colab_type": "code",
        "colab": {}
      },
      "source": [
        "X1 = df.loc[:, ['Open']].values\n",
        "X2 = df.loc[:, ['Close']].values"
      ],
      "execution_count": 0,
      "outputs": []
    },
    {
      "cell_type": "code",
      "metadata": {
        "id": "a4IqNf-SDIQe",
        "colab_type": "code",
        "outputId": "20f232fb-899c-494a-a346-add827fb2b6a",
        "colab": {
          "base_uri": "https://localhost:8080/",
          "height": 51
        }
      },
      "source": [
        "print('X1 shape : ',X1.shape)\n",
        "print('X2 shape : ',X2.shape)"
      ],
      "execution_count": 0,
      "outputs": [
        {
          "output_type": "stream",
          "text": [
            "X1 shape :  (1258, 1)\n",
            "X2 shape :  (1258, 1)\n"
          ],
          "name": "stdout"
        }
      ]
    },
    {
      "cell_type": "markdown",
      "metadata": {
        "id": "COmHF16oKSkZ",
        "colab_type": "text"
      },
      "source": [
        "# Data Preprocessing"
      ]
    },
    {
      "cell_type": "code",
      "metadata": {
        "id": "TcahzmbtKII0",
        "colab_type": "code",
        "colab": {}
      },
      "source": [
        "# Feature Scaling on the data\n",
        "from sklearn.preprocessing import MinMaxScaler\n",
        "sc1 = MinMaxScaler(feature_range = (0,1))\n",
        "sc2 = MinMaxScaler(feature_range = (0,1))\n",
        "\n",
        "X1 = sc1.fit_transform(X1)\n",
        "X2 = sc2.fit_transform(X2)\n",
        "data_scaled = np.concatenate((X1, X2), axis=1)"
      ],
      "execution_count": 0,
      "outputs": []
    },
    {
      "cell_type": "code",
      "metadata": {
        "id": "ypbzZ6ajK5ng",
        "colab_type": "code",
        "outputId": "03a5b7a3-88ea-41f3-d1bb-31ded4aeb652",
        "colab": {
          "base_uri": "https://localhost:8080/",
          "height": 119
        }
      },
      "source": [
        "# check the shape of preprocessed data\n",
        "print('data shape : ', data_scaled.shape)\n",
        "data_scaled[:5]"
      ],
      "execution_count": 0,
      "outputs": [
        {
          "output_type": "stream",
          "text": [
            "data shape :  (1258, 2)\n"
          ],
          "name": "stdout"
        },
        {
          "output_type": "execute_result",
          "data": {
            "text/plain": [
              "array([[0.03938367, 0.03698029],\n",
              "       [0.03279298, 0.0244395 ],\n",
              "       [0.02332534, 0.01078684],\n",
              "       [0.01415566, 0.00980102],\n",
              "       [0.00382835, 0.01161222]])"
            ]
          },
          "metadata": {
            "tags": []
          },
          "execution_count": 7
        }
      ]
    },
    {
      "cell_type": "markdown",
      "metadata": {
        "id": "TS8a3yqX6_jt",
        "colab_type": "text"
      },
      "source": [
        "# Create timestep sequence\n",
        "X : n_steps sequence of data  \n",
        "y : 1 step output"
      ]
    },
    {
      "cell_type": "code",
      "metadata": {
        "id": "AJzgwyC574XA",
        "colab_type": "code",
        "colab": {}
      },
      "source": [
        "def create_sequence(data, n_steps):\n",
        "  X = []\n",
        "  y = []\n",
        "  for i in range(n_steps, len(data)):\n",
        "    X.append(data[i - n_steps:i])\n",
        "    y.append(data[i,-1])\n",
        "  return np.array(X), np.array(y)"
      ],
      "execution_count": 0,
      "outputs": []
    },
    {
      "cell_type": "code",
      "metadata": {
        "id": "ql8oMIa_83oF",
        "colab_type": "code",
        "outputId": "55e8f1ec-db94-48b6-c7ce-671924a743fb",
        "colab": {
          "base_uri": "https://localhost:8080/",
          "height": 51
        }
      },
      "source": [
        "# choose number of timesteps\n",
        "n_steps = 60\n",
        "n_features = 2\n",
        "# Create the sequence and the output\n",
        "X,y = create_sequence(data_scaled, n_steps)\n",
        "print('X shape : ',X.shape)\n",
        "print('y shape : ',y.shape)"
      ],
      "execution_count": 0,
      "outputs": [
        {
          "output_type": "stream",
          "text": [
            "X shape :  (1198, 60, 2)\n",
            "y shape :  (1198,)\n"
          ],
          "name": "stdout"
        }
      ]
    },
    {
      "cell_type": "code",
      "metadata": {
        "id": "fNVhx58RG0O3",
        "colab_type": "code",
        "outputId": "0d5f70fd-e6d7-4cd8-a6f9-a100b37afd88",
        "colab": {
          "base_uri": "https://localhost:8080/",
          "height": 1000
        }
      },
      "source": [
        "print(X[0],'==>',y[0])"
      ],
      "execution_count": 0,
      "outputs": [
        {
          "output_type": "stream",
          "text": [
            "[[0.03938367 0.03698029]\n",
            " [0.03279298 0.0244395 ]\n",
            " [0.02332534 0.01078684]\n",
            " [0.01415566 0.00980102]\n",
            " [0.00382835 0.01161222]\n",
            " [0.01158817 0.00414966]\n",
            " [0.00033241 0.        ]\n",
            " [0.00480261 0.00416113]\n",
            " [0.         0.00953737]\n",
            " [0.01251658 0.01059198]\n",
            " [0.00614368 0.01780232]\n",
            " [0.01874048 0.01644967]\n",
            " [0.01444219 0.02921971]\n",
            " [0.03075271 0.04796196]\n",
            " [0.04692567 0.05433553]\n",
            " [0.05029558 0.04890201]\n",
            " [0.04048399 0.02989603]\n",
            " [0.03224279 0.02000327]\n",
            " [0.01874048 0.02075982]\n",
            " [0.02431103 0.04811105]\n",
            " [0.04250132 0.04118724]\n",
            " [0.03822597 0.04205846]\n",
            " [0.03964729 0.03463028]\n",
            " [0.03340049 0.04015557]\n",
            " [0.03781334 0.04407599]\n",
            " [0.03822597 0.04044216]\n",
            " [0.03971604 0.05088509]\n",
            " [0.04659329 0.04977316]\n",
            " [0.04882837 0.05775158]\n",
            " [0.05582025 0.06472121]\n",
            " [0.05980904 0.05764838]\n",
            " [0.05358517 0.05404893]\n",
            " [0.04973388 0.05768276]\n",
            " [0.05556813 0.05318922]\n",
            " [0.04745292 0.0451191 ]\n",
            " [0.04051843 0.04991074]\n",
            " [0.04728105 0.05882914]\n",
            " [0.05565982 0.07213788]\n",
            " [0.06830242 0.07548511]\n",
            " [0.07551212 0.09031852]\n",
            " [0.08688247 0.09295505]\n",
            " [0.08851011 0.09264552]\n",
            " [0.09212064 0.09489232]\n",
            " [0.09196014 0.08612869]\n",
            " [0.08276755 0.08746415]\n",
            " [0.07977597 0.07159914]\n",
            " [0.06933406 0.06720873]\n",
            " [0.06746573 0.07217225]\n",
            " [0.06745423 0.06278394]\n",
            " [0.06453146 0.07102595]\n",
            " [0.06540252 0.06681893]\n",
            " [0.06630803 0.07674606]\n",
            " [0.07420542 0.07501512]\n",
            " [0.07679581 0.07773192]\n",
            " [0.07539749 0.0759551 ]\n",
            " [0.07783889 0.08900025]\n",
            " [0.08693978 0.07592647]\n",
            " [0.07214228 0.07178253]\n",
            " [0.06688116 0.06395319]\n",
            " [0.0652994  0.06818308]] ==> 0.06356339178560655\n"
          ],
          "name": "stdout"
        }
      ]
    },
    {
      "cell_type": "markdown",
      "metadata": {
        "id": "p0Be9s7_-cI2",
        "colab_type": "text"
      },
      "source": [
        "# CNN model"
      ]
    },
    {
      "cell_type": "code",
      "metadata": {
        "id": "IKpC5p3l-lyY",
        "colab_type": "code",
        "colab": {}
      },
      "source": [
        "from keras.models import Sequential\n",
        "from keras.layers import Dense, Conv1D, MaxPool1D, Flatten"
      ],
      "execution_count": 0,
      "outputs": []
    },
    {
      "cell_type": "code",
      "metadata": {
        "id": "zoI3TvCx-UMl",
        "colab_type": "code",
        "colab": {}
      },
      "source": [
        "# define CNN model\n",
        "model = Sequential()\n",
        "model.add(Conv1D(filters=64, kernel_size=2, activation='relu', input_shape=(n_steps, n_features)))\n",
        "model.add(MaxPool1D(pool_size=2))\n",
        "model.add(Flatten())\n",
        "model.add(Dense(units=50, activation='relu'))\n",
        "model.add(Dense(units=1))\n",
        "model.compile(optimizer='adam', loss='mse')"
      ],
      "execution_count": 0,
      "outputs": []
    },
    {
      "cell_type": "markdown",
      "metadata": {
        "id": "aqovR-qWCKXS",
        "colab_type": "text"
      },
      "source": [
        "# Train CNN"
      ]
    },
    {
      "cell_type": "code",
      "metadata": {
        "id": "BAP-LmwjEW5i",
        "colab_type": "code",
        "colab": {}
      },
      "source": [
        "history = model.fit(X, y, epochs = 1000, verbose = 0)"
      ],
      "execution_count": 0,
      "outputs": []
    },
    {
      "cell_type": "code",
      "metadata": {
        "id": "pQqVP_DYCvOi",
        "colab_type": "code",
        "outputId": "1915a369-0c93-4557-dd53-6a01f5368763",
        "colab": {
          "base_uri": "https://localhost:8080/",
          "height": 312
        }
      },
      "source": [
        "score = history.history['loss'][0]\n",
        "print('training loss : ', score)\n",
        "\n",
        "plt.plot(history.history['loss'])\n",
        "plt.title('Training MSE')\n",
        "plt.xlabel('epochs')\n",
        "plt.ylabel('mse')\n",
        "plt.show()"
      ],
      "execution_count": 0,
      "outputs": [
        {
          "output_type": "stream",
          "text": [
            "training loss :  0.014512273254423388\n"
          ],
          "name": "stdout"
        },
        {
          "output_type": "display_data",
          "data": {
            "image/png": "[encoded data removed]",
            "text/plain": [
              "<Figure size 432x288 with 1 Axes>"
            ]
          },
          "metadata": {
            "tags": [],
            "needs_background": "light"
          }
        }
      ]
    },
    {
      "cell_type": "code",
      "metadata": {
        "id": "5ZfkLAedBMcs",
        "colab_type": "code",
        "outputId": "580f74e9-3bbe-4353-8276-b9bdf3f46aa4",
        "colab": {
          "base_uri": "https://localhost:8080/",
          "height": 265
        }
      },
      "source": [
        "y_pred = model.predict(X)\n",
        "\n",
        "# inverse transform the price\n",
        "y = sc2.inverse_transform(y.reshape(len(y),1))\n",
        "y_pred = sc2.inverse_transform(y_pred)\n",
        "\n",
        "# plot the last 120 days prediction\n",
        "plt.figure(figsize=(12,4))\n",
        "plt.plot(y[-120:])\n",
        "plt.plot(y_pred[-120:])\n",
        "plt.legend(['y','y_pred'])\n",
        "plt.show()"
      ],
      "execution_count": 0,
      "outputs": [
        {
          "output_type": "display_data",
          "data": {
            "image/png": "[encoded data removed]",
            "text/plain": [
              "<Figure size 864x288 with 1 Axes>"
            ]
          },
          "metadata": {
            "tags": [],
            "needs_background": "light"
          }
        }
      ]
    }
  ]
}