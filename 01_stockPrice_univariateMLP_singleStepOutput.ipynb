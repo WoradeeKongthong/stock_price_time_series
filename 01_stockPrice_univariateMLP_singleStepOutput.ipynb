{
  "nbformat": 4,
  "nbformat_minor": 0,
  "metadata": {
    "colab": {
      "name": "01_stockPrice_univariateMLP_singleStepOutput.ipynb",
      "provenance": [],
      "toc_visible": true,
      "authorship_tag": "ABX9TyPO0V6a9in0F8WRtBvvjyup",
      "include_colab_link": true
    },
    "kernelspec": {
      "name": "python3",
      "display_name": "Python 3"
    }
  },
  "cells": [
    {
      "cell_type": "markdown",
      "metadata": {
        "id": "view-in-github",
        "colab_type": "text"
      },
      "source": [
        "<a href=\"https://colab.research.google.com/github/WoradeeKongthong/stock_price_time_series/blob/master/01_stockPrice_univariateMLP_singleStepOutput.ipynb\" target=\"_parent\"><img src=\"https://colab.research.google.com/assets/colab-badge.svg\" alt=\"Open In Colab\"/></a>"
      ]
    },
    {
      "cell_type": "markdown",
      "metadata": {
        "id": "UcH5m7wHJ5Uz",
        "colab_type": "text"
      },
      "source": [
        "# **MLP : time series forcasting with 1 feature input and 1 step output**"
      ]
    },
    {
      "cell_type": "code",
      "metadata": {
        "id": "lijY7XZfCGwl",
        "colab_type": "code",
        "colab": {}
      },
      "source": [
        "import numpy as np\n",
        "import pandas as pd\n",
        "from pandas_datareader.data import DataReader\n",
        "import matplotlib.pyplot as plt\n",
        "import seaborn as sns\n",
        "\n",
        "% matplotlib inline"
      ],
      "execution_count": 0,
      "outputs": []
    },
    {
      "cell_type": "markdown",
      "metadata": {
        "id": "YAIL4m65D7tx",
        "colab_type": "text"
      },
      "source": [
        "# Dataset : google stock price (2015-2019) from yahoo.com"
      ]
    },
    {
      "cell_type": "code",
      "metadata": {
        "id": "CqssyY4QCSRa",
        "colab_type": "code",
        "outputId": "ad972909-7829-4a15-f702-a8b2aad25a00",
        "colab": {
          "base_uri": "https://localhost:8080/",
          "height": 235
        }
      },
      "source": [
        "df = DataReader('GOOG', data_source='yahoo', start='2015-01-01', end='2019-12-31')\n",
        "df.head()"
      ],
      "execution_count": 53,
      "outputs": [
        {
          "output_type": "execute_result",
          "data": {
            "text/html": [
              "<div>\n",
              "<style scoped>\n",
              "    .dataframe tbody tr th:only-of-type {\n",
              "        vertical-align: middle;\n",
              "    }\n",
              "\n",
              "    .dataframe tbody tr th {\n",
              "        vertical-align: top;\n",
              "    }\n",
              "\n",
              "    .dataframe thead th {\n",
              "        text-align: right;\n",
              "    }\n",
              "</style>\n",
              "<table border=\"1\" class=\"dataframe\">\n",
              "  <thead>\n",
              "    <tr style=\"text-align: right;\">\n",
              "      <th></th>\n",
              "      <th>High</th>\n",
              "      <th>Low</th>\n",
              "      <th>Open</th>\n",
              "      <th>Close</th>\n",
              "      <th>Volume</th>\n",
              "      <th>Adj Close</th>\n",
              "    </tr>\n",
              "    <tr>\n",
              "      <th>Date</th>\n",
              "      <th></th>\n",
              "      <th></th>\n",
              "      <th></th>\n",
              "      <th></th>\n",
              "      <th></th>\n",
              "      <th></th>\n",
              "    </tr>\n",
              "  </thead>\n",
              "  <tbody>\n",
              "    <tr>\n",
              "      <th>2015-01-02</th>\n",
              "      <td>529.815369</td>\n",
              "      <td>522.665039</td>\n",
              "      <td>527.561584</td>\n",
              "      <td>523.373108</td>\n",
              "      <td>1447500.0</td>\n",
              "      <td>523.373108</td>\n",
              "    </tr>\n",
              "    <tr>\n",
              "      <th>2015-01-05</th>\n",
              "      <td>522.894409</td>\n",
              "      <td>511.655243</td>\n",
              "      <td>521.827332</td>\n",
              "      <td>512.463013</td>\n",
              "      <td>2059800.0</td>\n",
              "      <td>512.463013</td>\n",
              "    </tr>\n",
              "    <tr>\n",
              "      <th>2015-01-06</th>\n",
              "      <td>514.761719</td>\n",
              "      <td>499.678131</td>\n",
              "      <td>513.589966</td>\n",
              "      <td>500.585632</td>\n",
              "      <td>2899900.0</td>\n",
              "      <td>500.585632</td>\n",
              "    </tr>\n",
              "    <tr>\n",
              "      <th>2015-01-07</th>\n",
              "      <td>505.855164</td>\n",
              "      <td>498.281952</td>\n",
              "      <td>505.611847</td>\n",
              "      <td>499.727997</td>\n",
              "      <td>2065000.0</td>\n",
              "      <td>499.727997</td>\n",
              "    </tr>\n",
              "    <tr>\n",
              "      <th>2015-01-08</th>\n",
              "      <td>502.101471</td>\n",
              "      <td>489.655640</td>\n",
              "      <td>496.626526</td>\n",
              "      <td>501.303680</td>\n",
              "      <td>3353500.0</td>\n",
              "      <td>501.303680</td>\n",
              "    </tr>\n",
              "  </tbody>\n",
              "</table>\n",
              "</div>"
            ],
            "text/plain": [
              "                  High         Low  ...     Volume   Adj Close\n",
              "Date                                ...                       \n",
              "2015-01-02  529.815369  522.665039  ...  1447500.0  523.373108\n",
              "2015-01-05  522.894409  511.655243  ...  2059800.0  512.463013\n",
              "2015-01-06  514.761719  499.678131  ...  2899900.0  500.585632\n",
              "2015-01-07  505.855164  498.281952  ...  2065000.0  499.727997\n",
              "2015-01-08  502.101471  489.655640  ...  3353500.0  501.303680\n",
              "\n",
              "[5 rows x 6 columns]"
            ]
          },
          "metadata": {
            "tags": []
          },
          "execution_count": 53
        }
      ]
    },
    {
      "cell_type": "code",
      "metadata": {
        "id": "TTiBkX93F9gy",
        "colab_type": "code",
        "outputId": "c934b9fb-22e2-4c83-8f93-2a424ea1016c",
        "colab": {
          "base_uri": "https://localhost:8080/",
          "height": 450
        }
      },
      "source": [
        "df"
      ],
      "execution_count": 54,
      "outputs": [
        {
          "output_type": "execute_result",
          "data": {
            "text/html": [
              "<div>\n",
              "<style scoped>\n",
              "    .dataframe tbody tr th:only-of-type {\n",
              "        vertical-align: middle;\n",
              "    }\n",
              "\n",
              "    .dataframe tbody tr th {\n",
              "        vertical-align: top;\n",
              "    }\n",
              "\n",
              "    .dataframe thead th {\n",
              "        text-align: right;\n",
              "    }\n",
              "</style>\n",
              "<table border=\"1\" class=\"dataframe\">\n",
              "  <thead>\n",
              "    <tr style=\"text-align: right;\">\n",
              "      <th></th>\n",
              "      <th>High</th>\n",
              "      <th>Low</th>\n",
              "      <th>Open</th>\n",
              "      <th>Close</th>\n",
              "      <th>Volume</th>\n",
              "      <th>Adj Close</th>\n",
              "    </tr>\n",
              "    <tr>\n",
              "      <th>Date</th>\n",
              "      <th></th>\n",
              "      <th></th>\n",
              "      <th></th>\n",
              "      <th></th>\n",
              "      <th></th>\n",
              "      <th></th>\n",
              "    </tr>\n",
              "  </thead>\n",
              "  <tbody>\n",
              "    <tr>\n",
              "      <th>2015-01-02</th>\n",
              "      <td>529.815369</td>\n",
              "      <td>522.665039</td>\n",
              "      <td>527.561584</td>\n",
              "      <td>523.373108</td>\n",
              "      <td>1447500.0</td>\n",
              "      <td>523.373108</td>\n",
              "    </tr>\n",
              "    <tr>\n",
              "      <th>2015-01-05</th>\n",
              "      <td>522.894409</td>\n",
              "      <td>511.655243</td>\n",
              "      <td>521.827332</td>\n",
              "      <td>512.463013</td>\n",
              "      <td>2059800.0</td>\n",
              "      <td>512.463013</td>\n",
              "    </tr>\n",
              "    <tr>\n",
              "      <th>2015-01-06</th>\n",
              "      <td>514.761719</td>\n",
              "      <td>499.678131</td>\n",
              "      <td>513.589966</td>\n",
              "      <td>500.585632</td>\n",
              "      <td>2899900.0</td>\n",
              "      <td>500.585632</td>\n",
              "    </tr>\n",
              "    <tr>\n",
              "      <th>2015-01-07</th>\n",
              "      <td>505.855164</td>\n",
              "      <td>498.281952</td>\n",
              "      <td>505.611847</td>\n",
              "      <td>499.727997</td>\n",
              "      <td>2065000.0</td>\n",
              "      <td>499.727997</td>\n",
              "    </tr>\n",
              "    <tr>\n",
              "      <th>2015-01-08</th>\n",
              "      <td>502.101471</td>\n",
              "      <td>489.655640</td>\n",
              "      <td>496.626526</td>\n",
              "      <td>501.303680</td>\n",
              "      <td>3353500.0</td>\n",
              "      <td>501.303680</td>\n",
              "    </tr>\n",
              "    <tr>\n",
              "      <th>...</th>\n",
              "      <td>...</td>\n",
              "      <td>...</td>\n",
              "      <td>...</td>\n",
              "      <td>...</td>\n",
              "      <td>...</td>\n",
              "      <td>...</td>\n",
              "    </tr>\n",
              "    <tr>\n",
              "      <th>2019-12-24</th>\n",
              "      <td>1350.260010</td>\n",
              "      <td>1342.780029</td>\n",
              "      <td>1348.500000</td>\n",
              "      <td>1343.560059</td>\n",
              "      <td>347500.0</td>\n",
              "      <td>1343.560059</td>\n",
              "    </tr>\n",
              "    <tr>\n",
              "      <th>2019-12-26</th>\n",
              "      <td>1361.327026</td>\n",
              "      <td>1344.469971</td>\n",
              "      <td>1346.170044</td>\n",
              "      <td>1360.400024</td>\n",
              "      <td>667500.0</td>\n",
              "      <td>1360.400024</td>\n",
              "    </tr>\n",
              "    <tr>\n",
              "      <th>2019-12-27</th>\n",
              "      <td>1364.530029</td>\n",
              "      <td>1349.310059</td>\n",
              "      <td>1362.989990</td>\n",
              "      <td>1351.890015</td>\n",
              "      <td>1038400.0</td>\n",
              "      <td>1351.890015</td>\n",
              "    </tr>\n",
              "    <tr>\n",
              "      <th>2019-12-30</th>\n",
              "      <td>1353.000000</td>\n",
              "      <td>1334.020020</td>\n",
              "      <td>1350.000000</td>\n",
              "      <td>1336.140015</td>\n",
              "      <td>1050900.0</td>\n",
              "      <td>1336.140015</td>\n",
              "    </tr>\n",
              "    <tr>\n",
              "      <th>2019-12-31</th>\n",
              "      <td>1338.000000</td>\n",
              "      <td>1329.084961</td>\n",
              "      <td>1330.109985</td>\n",
              "      <td>1337.020020</td>\n",
              "      <td>961800.0</td>\n",
              "      <td>1337.020020</td>\n",
              "    </tr>\n",
              "  </tbody>\n",
              "</table>\n",
              "<p>1258 rows × 6 columns</p>\n",
              "</div>"
            ],
            "text/plain": [
              "                   High          Low  ...     Volume    Adj Close\n",
              "Date                                  ...                        \n",
              "2015-01-02   529.815369   522.665039  ...  1447500.0   523.373108\n",
              "2015-01-05   522.894409   511.655243  ...  2059800.0   512.463013\n",
              "2015-01-06   514.761719   499.678131  ...  2899900.0   500.585632\n",
              "2015-01-07   505.855164   498.281952  ...  2065000.0   499.727997\n",
              "2015-01-08   502.101471   489.655640  ...  3353500.0   501.303680\n",
              "...                 ...          ...  ...        ...          ...\n",
              "2019-12-24  1350.260010  1342.780029  ...   347500.0  1343.560059\n",
              "2019-12-26  1361.327026  1344.469971  ...   667500.0  1360.400024\n",
              "2019-12-27  1364.530029  1349.310059  ...  1038400.0  1351.890015\n",
              "2019-12-30  1353.000000  1334.020020  ...  1050900.0  1336.140015\n",
              "2019-12-31  1338.000000  1329.084961  ...   961800.0  1337.020020\n",
              "\n",
              "[1258 rows x 6 columns]"
            ]
          },
          "metadata": {
            "tags": []
          },
          "execution_count": 54
        }
      ]
    },
    {
      "cell_type": "markdown",
      "metadata": {
        "id": "X169Hp9qKLrb",
        "colab_type": "text"
      },
      "source": [
        "#  Get X from Dataframe\n",
        "Time series to train the model is the 'Close' price.  "
      ]
    },
    {
      "cell_type": "code",
      "metadata": {
        "id": "AXv9O8YDGTBj",
        "colab_type": "code",
        "colab": {}
      },
      "source": [
        "data = df.loc[:, ['Close']].values"
      ],
      "execution_count": 0,
      "outputs": []
    },
    {
      "cell_type": "code",
      "metadata": {
        "id": "a4IqNf-SDIQe",
        "colab_type": "code",
        "outputId": "d5a0446a-e110-42ea-c56b-4c7718dde3e2",
        "colab": {
          "base_uri": "https://localhost:8080/",
          "height": 34
        }
      },
      "source": [
        "data.shape"
      ],
      "execution_count": 56,
      "outputs": [
        {
          "output_type": "execute_result",
          "data": {
            "text/plain": [
              "(1258, 1)"
            ]
          },
          "metadata": {
            "tags": []
          },
          "execution_count": 56
        }
      ]
    },
    {
      "cell_type": "markdown",
      "metadata": {
        "id": "COmHF16oKSkZ",
        "colab_type": "text"
      },
      "source": [
        "# Data Preprocessing"
      ]
    },
    {
      "cell_type": "code",
      "metadata": {
        "id": "TcahzmbtKII0",
        "colab_type": "code",
        "colab": {}
      },
      "source": [
        "# Feature Scaling on the data\n",
        "from sklearn.preprocessing import MinMaxScaler\n",
        "sc = MinMaxScaler(feature_range = (0,1))\n",
        "data_scaled = sc.fit_transform(data)"
      ],
      "execution_count": 0,
      "outputs": []
    },
    {
      "cell_type": "code",
      "metadata": {
        "id": "93OoLrgfLW0s",
        "colab_type": "code",
        "outputId": "76b81a81-d52b-4882-8651-3f1436baa39a",
        "colab": {
          "base_uri": "https://localhost:8080/",
          "height": 153
        }
      },
      "source": [
        "# check the shape of preprocessed data\n",
        "print(data_scaled.shape)\n",
        "data_scaled"
      ],
      "execution_count": 58,
      "outputs": [
        {
          "output_type": "stream",
          "text": [
            "(1258, 1)\n"
          ],
          "name": "stdout"
        },
        {
          "output_type": "execute_result",
          "data": {
            "text/plain": [
              "array([[0.03698029],\n",
              "       [0.0244395 ],\n",
              "       [0.01078684],\n",
              "       ...,\n",
              "       [0.98933292],\n",
              "       [0.97122881],\n",
              "       [0.97224035]])"
            ]
          },
          "metadata": {
            "tags": []
          },
          "execution_count": 58
        }
      ]
    },
    {
      "cell_type": "markdown",
      "metadata": {
        "id": "TS8a3yqX6_jt",
        "colab_type": "text"
      },
      "source": [
        "# Create timestep sequence\n",
        "X : n_steps sequence of data  \n",
        "y : 1 step output"
      ]
    },
    {
      "cell_type": "code",
      "metadata": {
        "id": "AJzgwyC574XA",
        "colab_type": "code",
        "colab": {}
      },
      "source": [
        "def create_sequence(data, n_steps):\n",
        "  X = []\n",
        "  y = []\n",
        "  for i in range(n_steps, len(data)):\n",
        "    X.append(data[i - n_steps:i])\n",
        "    y.append(data[i])\n",
        "  return np.array(X), np.array(y)"
      ],
      "execution_count": 0,
      "outputs": []
    },
    {
      "cell_type": "code",
      "metadata": {
        "id": "ql8oMIa_83oF",
        "colab_type": "code",
        "colab": {}
      },
      "source": [
        "# choose number of timesteps\n",
        "n_steps = 60\n",
        "# Create the sequence and the output\n",
        "X,y = create_sequence(data_scaled, n_steps)\n",
        "\n",
        "# MLP model need X dimension to be [samples, timesteps]\n",
        "X = X.reshape(X.shape[0],X.shape[1])\n",
        "y = y.reshape(y.shape[0],)  "
      ],
      "execution_count": 0,
      "outputs": []
    },
    {
      "cell_type": "code",
      "metadata": {
        "id": "LXHwaTb79Aju",
        "colab_type": "code",
        "outputId": "8fb2f0c8-d288-4728-9a39-d67430af8e73",
        "colab": {
          "base_uri": "https://localhost:8080/",
          "height": 51
        }
      },
      "source": [
        "print('X shape : ',X.shape)\n",
        "print('y shape : ',y.shape)"
      ],
      "execution_count": 61,
      "outputs": [
        {
          "output_type": "stream",
          "text": [
            "X shape :  (1198, 60)\n",
            "y shape :  (1198,)\n"
          ],
          "name": "stdout"
        }
      ]
    },
    {
      "cell_type": "markdown",
      "metadata": {
        "id": "p0Be9s7_-cI2",
        "colab_type": "text"
      },
      "source": [
        "# MLP model"
      ]
    },
    {
      "cell_type": "code",
      "metadata": {
        "id": "IKpC5p3l-lyY",
        "colab_type": "code",
        "colab": {}
      },
      "source": [
        "from keras.models import Sequential\n",
        "from keras.layers import Dense, Conv1D, MaxPool1D, Flatten"
      ],
      "execution_count": 0,
      "outputs": []
    },
    {
      "cell_type": "code",
      "metadata": {
        "id": "zoI3TvCx-UMl",
        "colab_type": "code",
        "colab": {}
      },
      "source": [
        "# define MLP model\n",
        "model = Sequential()\n",
        "model.add(Dense(units=100, activation='relu', input_dim=n_steps))\n",
        "model.add(Dense(units=1))\n",
        "model.compile(optimizer='adam', loss='mse')"
      ],
      "execution_count": 0,
      "outputs": []
    },
    {
      "cell_type": "markdown",
      "metadata": {
        "id": "aqovR-qWCKXS",
        "colab_type": "text"
      },
      "source": [
        "# Train MLP"
      ]
    },
    {
      "cell_type": "code",
      "metadata": {
        "id": "BAP-LmwjEW5i",
        "colab_type": "code",
        "colab": {}
      },
      "source": [
        "history = model.fit(X, y, epochs = 1000, verbose = 0)"
      ],
      "execution_count": 0,
      "outputs": []
    },
    {
      "cell_type": "code",
      "metadata": {
        "id": "pQqVP_DYCvOi",
        "colab_type": "code",
        "outputId": "6af8a164-54cb-482d-87d0-5ae264c8063f",
        "colab": {
          "base_uri": "https://localhost:8080/",
          "height": 312
        }
      },
      "source": [
        "score = history.history['loss'][0]\n",
        "print('training loss : ', score)\n",
        "\n",
        "plt.plot(history.history['loss'])\n",
        "plt.title('Training MSE')\n",
        "plt.xlabel('epochs')\n",
        "plt.ylabel('mse')\n",
        "plt.show()"
      ],
      "execution_count": 65,
      "outputs": [
        {
          "output_type": "stream",
          "text": [
            "training loss :  0.04863194769165962\n"
          ],
          "name": "stdout"
        },
        {
          "output_type": "display_data",
          "data": {
            "image/png": "[encoded data removed]",
            "text/plain": [
              "<Figure size 432x288 with 1 Axes>"
            ]
          },
          "metadata": {
            "tags": [],
            "needs_background": "light"
          }
        }
      ]
    },
    {
      "cell_type": "code",
      "metadata": {
        "id": "5ZfkLAedBMcs",
        "colab_type": "code",
        "outputId": "89dcef4a-2951-481b-e11a-d35fffc5464e",
        "colab": {
          "base_uri": "https://localhost:8080/",
          "height": 316
        }
      },
      "source": [
        "y_pred = model.predict(X)\n",
        "\n",
        "# inverse transform the price\n",
        "y = sc.inverse_transform(y.reshape(len(y),1))\n",
        "y_pred = sc.inverse_transform(y_pred.reshape(len(y_pred),1))\n",
        "\n",
        "# calculate rmse\n",
        "mse = mean_squared_error(y, y_pred)\n",
        "rmse = sqrt(mse)\n",
        "print('Model Evaluation : ')\n",
        "print('MSE : ', mse) \n",
        "print('RMSE : ', rmse)\n",
        "\n",
        "# plot\n",
        "plt.figure(figsize=(12,4))\n",
        "plt.plot(y[-120:])\n",
        "plt.plot(y_pred[-120:])\n",
        "plt.legend(['y','y_pred'])\n",
        "plt.show()"
      ],
      "execution_count": 74,
      "outputs": [
        {
          "output_type": "stream",
          "text": [
            "Model Evaluation : \n",
            "MSE :  174.23865969599424\n",
            "RMSE :  13.19994923081124\n"
          ],
          "name": "stdout"
        },
        {
          "output_type": "display_data",
          "data": {
            "image/png": "[encoded data removed]",
            "text/plain": [
              "<Figure size 864x288 with 1 Axes>"
            ]
          },
          "metadata": {
            "tags": [],
            "needs_background": "light"
          }
        }
      ]
    },
    {
      "cell_type": "markdown",
      "metadata": {
        "id": "IONAsz-VjimY",
        "colab_type": "text"
      },
      "source": [
        "# Model Evaluation : walk forward validation"
      ]
    },
    {
      "cell_type": "code",
      "metadata": {
        "id": "BOzBIaWeked_",
        "colab_type": "code",
        "colab": {
          "base_uri": "https://localhost:8080/",
          "height": 51
        },
        "outputId": "dca296b3-0cd6-41dd-c890-9bc3838100ac"
      },
      "source": [
        "# get the test set : Jan - March of 2020\n",
        "df = DataReader('GOOG', data_source='yahoo', start='2020-01-01', end='2020-03-31')\n",
        "test = df.loc[:,['Close']].values\n",
        "\n",
        "# feature scaling on the test set\n",
        "test = sc.transform(test)\n",
        "\n",
        "# seed the last n_steps in training dataset\n",
        "history = data_scaled[-n_steps:]\n",
        "\n",
        "# create timestep sequence for the training set\n",
        "test = np.concatenate((history, test), axis=0)\n",
        "X_test, y_test = create_sequence(test, n_steps)\n",
        "# MLP model need X dimension to be [samples, timesteps]\n",
        "X_test = X_test.reshape(X_test.shape[0],X_test.shape[1])\n",
        "#y_test = y_test.reshape(y_test.shape[0],) \n",
        "print('X_test shape : ',X_test.shape)\n",
        "print('y_test shape : ',y_test.shape)"
      ],
      "execution_count": 76,
      "outputs": [
        {
          "output_type": "stream",
          "text": [
            "X_test shape :  (62, 60)\n",
            "y_test shape :  (62, 1)\n"
          ],
          "name": "stdout"
        }
      ]
    },
    {
      "cell_type": "code",
      "metadata": {
        "id": "WMTdZZGinfZd",
        "colab_type": "code",
        "colab": {}
      },
      "source": [
        "# Make predictions\n",
        "y_pred = model.predict(X_test)"
      ],
      "execution_count": 0,
      "outputs": []
    },
    {
      "cell_type": "code",
      "metadata": {
        "id": "AQTAo4EBpUEA",
        "colab_type": "code",
        "colab": {}
      },
      "source": [
        "# inverse transform y_test and y_pred \n",
        "y_test = sc.inverse_transform(y_test)\n",
        "y_pred = sc.inverse_transform(y_pred)"
      ],
      "execution_count": 0,
      "outputs": []
    },
    {
      "cell_type": "code",
      "metadata": {
        "id": "CD_OEBcspHYx",
        "colab_type": "code",
        "colab": {
          "base_uri": "https://localhost:8080/",
          "height": 68
        },
        "outputId": "b5ee40c3-0b42-4458-dc80-fbc5dd74e036"
      },
      "source": [
        "# calculate rmse\n",
        "from sklearn.metrics import mean_squared_error\n",
        "from math import sqrt\n",
        "\n",
        "mse = mean_squared_error(y_test, y_pred)\n",
        "rmse = sqrt(mse)\n",
        "print('Model Evaluation : ')\n",
        "print('MSE : ', mse) \n",
        "print('RMSE : ', rmse)"
      ],
      "execution_count": 79,
      "outputs": [
        {
          "output_type": "stream",
          "text": [
            "Model Evaluation : \n",
            "MSE :  1652.8419335434057\n",
            "RMSE :  40.65515875683436\n"
          ],
          "name": "stdout"
        }
      ]
    },
    {
      "cell_type": "code",
      "metadata": {
        "id": "tce6Ig7jwdW4",
        "colab_type": "code",
        "colab": {
          "base_uri": "https://localhost:8080/",
          "height": 265
        },
        "outputId": "f0b79bdd-0059-43e0-83b7-48f63cfefc57"
      },
      "source": [
        "# plot\n",
        "plt.figure(figsize=(12,4))\n",
        "plt.plot(y_test)\n",
        "plt.plot(y_pred)\n",
        "plt.legend(['y_test','y_pred'])\n",
        "plt.show()"
      ],
      "execution_count": 80,
      "outputs": [
        {
          "output_type": "display_data",
          "data": {
            "image/png": "[encoded data removed]",
            "text/plain": [
              "<Figure size 864x288 with 1 Axes>"
            ]
          },
          "metadata": {
            "tags": [],
            "needs_background": "light"
          }
        }
      ]
    }
  ]
}