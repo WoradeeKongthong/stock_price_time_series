{
  "nbformat": 4,
  "nbformat_minor": 0,
  "metadata": {
    "colab": {
      "name": "08_stockPrice_multivariateCNN(KerasFunctionalAPI)_singleStepOutput.ipynb",
      "provenance": [],
      "authorship_tag": "ABX9TyNmIacZLS4Y4rmLT7Vw3qnU",
      "include_colab_link": true
    },
    "kernelspec": {
      "name": "python3",
      "display_name": "Python 3"
    }
  },
  "cells": [
    {
      "cell_type": "markdown",
      "metadata": {
        "id": "view-in-github",
        "colab_type": "text"
      },
      "source": [
        "<a href=\"https://colab.research.google.com/github/WoradeeKongthong/stock_price_time_series/blob/master/08_stockPrice_multivariateCNN(KerasFunctionalAPI)_singleStepOutput.ipynb\" target=\"_parent\"><img src=\"https://colab.research.google.com/assets/colab-badge.svg\" alt=\"Open In Colab\"/></a>"
      ]
    },
    {
      "cell_type": "markdown",
      "metadata": {
        "id": "UcH5m7wHJ5Uz",
        "colab_type": "text"
      },
      "source": [
        "# **CNN : time series forcasting with multiple features input and 1 step output (Keras Functional API)**"
      ]
    },
    {
      "cell_type": "code",
      "metadata": {
        "id": "lijY7XZfCGwl",
        "colab_type": "code",
        "outputId": "c0f27a89-42b5-4753-f00c-593c128ca0fb",
        "colab": {
          "base_uri": "https://localhost:8080/",
          "height": 71
        }
      },
      "source": [
        "import numpy as np\n",
        "import pandas as pd\n",
        "from pandas_datareader import data\n",
        "import matplotlib.pyplot as plt\n",
        "import seaborn as sns\n",
        "\n",
        "% matplotlib inline"
      ],
      "execution_count": 0,
      "outputs": [
        {
          "output_type": "stream",
          "text": [
            "/usr/local/lib/python3.6/dist-packages/pandas_datareader/compat/__init__.py:7: FutureWarning: pandas.util.testing is deprecated. Use the functions in the public API at pandas.testing instead.\n",
            "  from pandas.util.testing import assert_frame_equal\n"
          ],
          "name": "stderr"
        }
      ]
    },
    {
      "cell_type": "markdown",
      "metadata": {
        "id": "YAIL4m65D7tx",
        "colab_type": "text"
      },
      "source": [
        "# Dataset : google stock price (2015-2019) from yahoo.com"
      ]
    },
    {
      "cell_type": "code",
      "metadata": {
        "id": "CqssyY4QCSRa",
        "colab_type": "code",
        "outputId": "21c12bfd-855b-49b9-8bd8-b0b45407d880",
        "colab": {
          "base_uri": "https://localhost:8080/",
          "height": 235
        }
      },
      "source": [
        "df = data.DataReader('GOOG', data_source='yahoo', start='2015-01-01', end='2019-12-31')\n",
        "df.head()"
      ],
      "execution_count": 0,
      "outputs": [
        {
          "output_type": "execute_result",
          "data": {
            "text/html": [
              "<div>\n",
              "<style scoped>\n",
              "    .dataframe tbody tr th:only-of-type {\n",
              "        vertical-align: middle;\n",
              "    }\n",
              "\n",
              "    .dataframe tbody tr th {\n",
              "        vertical-align: top;\n",
              "    }\n",
              "\n",
              "    .dataframe thead th {\n",
              "        text-align: right;\n",
              "    }\n",
              "</style>\n",
              "<table border=\"1\" class=\"dataframe\">\n",
              "  <thead>\n",
              "    <tr style=\"text-align: right;\">\n",
              "      <th></th>\n",
              "      <th>High</th>\n",
              "      <th>Low</th>\n",
              "      <th>Open</th>\n",
              "      <th>Close</th>\n",
              "      <th>Volume</th>\n",
              "      <th>Adj Close</th>\n",
              "    </tr>\n",
              "    <tr>\n",
              "      <th>Date</th>\n",
              "      <th></th>\n",
              "      <th></th>\n",
              "      <th></th>\n",
              "      <th></th>\n",
              "      <th></th>\n",
              "      <th></th>\n",
              "    </tr>\n",
              "  </thead>\n",
              "  <tbody>\n",
              "    <tr>\n",
              "      <th>2015-01-02</th>\n",
              "      <td>529.815369</td>\n",
              "      <td>522.665039</td>\n",
              "      <td>527.561584</td>\n",
              "      <td>523.373108</td>\n",
              "      <td>1447500.0</td>\n",
              "      <td>523.373108</td>\n",
              "    </tr>\n",
              "    <tr>\n",
              "      <th>2015-01-05</th>\n",
              "      <td>522.894409</td>\n",
              "      <td>511.655243</td>\n",
              "      <td>521.827332</td>\n",
              "      <td>512.463013</td>\n",
              "      <td>2059800.0</td>\n",
              "      <td>512.463013</td>\n",
              "    </tr>\n",
              "    <tr>\n",
              "      <th>2015-01-06</th>\n",
              "      <td>514.761719</td>\n",
              "      <td>499.678131</td>\n",
              "      <td>513.589966</td>\n",
              "      <td>500.585632</td>\n",
              "      <td>2899900.0</td>\n",
              "      <td>500.585632</td>\n",
              "    </tr>\n",
              "    <tr>\n",
              "      <th>2015-01-07</th>\n",
              "      <td>505.855164</td>\n",
              "      <td>498.281952</td>\n",
              "      <td>505.611847</td>\n",
              "      <td>499.727997</td>\n",
              "      <td>2065000.0</td>\n",
              "      <td>499.727997</td>\n",
              "    </tr>\n",
              "    <tr>\n",
              "      <th>2015-01-08</th>\n",
              "      <td>502.101471</td>\n",
              "      <td>489.655640</td>\n",
              "      <td>496.626526</td>\n",
              "      <td>501.303680</td>\n",
              "      <td>3353500.0</td>\n",
              "      <td>501.303680</td>\n",
              "    </tr>\n",
              "  </tbody>\n",
              "</table>\n",
              "</div>"
            ],
            "text/plain": [
              "                  High         Low  ...     Volume   Adj Close\n",
              "Date                                ...                       \n",
              "2015-01-02  529.815369  522.665039  ...  1447500.0  523.373108\n",
              "2015-01-05  522.894409  511.655243  ...  2059800.0  512.463013\n",
              "2015-01-06  514.761719  499.678131  ...  2899900.0  500.585632\n",
              "2015-01-07  505.855164  498.281952  ...  2065000.0  499.727997\n",
              "2015-01-08  502.101471  489.655640  ...  3353500.0  501.303680\n",
              "\n",
              "[5 rows x 6 columns]"
            ]
          },
          "metadata": {
            "tags": []
          },
          "execution_count": 2
        }
      ]
    },
    {
      "cell_type": "code",
      "metadata": {
        "id": "TTiBkX93F9gy",
        "colab_type": "code",
        "outputId": "b5ddf783-412d-4475-826d-308dfd36f804",
        "colab": {
          "base_uri": "https://localhost:8080/",
          "height": 620
        }
      },
      "source": [
        "df"
      ],
      "execution_count": 0,
      "outputs": [
        {
          "output_type": "execute_result",
          "data": {
            "text/html": [
              "<div>\n",
              "<style scoped>\n",
              "    .dataframe tbody tr th:only-of-type {\n",
              "        vertical-align: middle;\n",
              "    }\n",
              "\n",
              "    .dataframe tbody tr th {\n",
              "        vertical-align: top;\n",
              "    }\n",
              "\n",
              "    .dataframe thead th {\n",
              "        text-align: right;\n",
              "    }\n",
              "</style>\n",
              "<table border=\"1\" class=\"dataframe\">\n",
              "  <thead>\n",
              "    <tr style=\"text-align: right;\">\n",
              "      <th></th>\n",
              "      <th>High</th>\n",
              "      <th>Low</th>\n",
              "      <th>Open</th>\n",
              "      <th>Close</th>\n",
              "      <th>Volume</th>\n",
              "      <th>Adj Close</th>\n",
              "    </tr>\n",
              "    <tr>\n",
              "      <th>Date</th>\n",
              "      <th></th>\n",
              "      <th></th>\n",
              "      <th></th>\n",
              "      <th></th>\n",
              "      <th></th>\n",
              "      <th></th>\n",
              "    </tr>\n",
              "  </thead>\n",
              "  <tbody>\n",
              "    <tr>\n",
              "      <th>2015-01-02</th>\n",
              "      <td>529.815369</td>\n",
              "      <td>522.665039</td>\n",
              "      <td>527.561584</td>\n",
              "      <td>523.373108</td>\n",
              "      <td>1447500.0</td>\n",
              "      <td>523.373108</td>\n",
              "    </tr>\n",
              "    <tr>\n",
              "      <th>2015-01-05</th>\n",
              "      <td>522.894409</td>\n",
              "      <td>511.655243</td>\n",
              "      <td>521.827332</td>\n",
              "      <td>512.463013</td>\n",
              "      <td>2059800.0</td>\n",
              "      <td>512.463013</td>\n",
              "    </tr>\n",
              "    <tr>\n",
              "      <th>2015-01-06</th>\n",
              "      <td>514.761719</td>\n",
              "      <td>499.678131</td>\n",
              "      <td>513.589966</td>\n",
              "      <td>500.585632</td>\n",
              "      <td>2899900.0</td>\n",
              "      <td>500.585632</td>\n",
              "    </tr>\n",
              "    <tr>\n",
              "      <th>2015-01-07</th>\n",
              "      <td>505.855164</td>\n",
              "      <td>498.281952</td>\n",
              "      <td>505.611847</td>\n",
              "      <td>499.727997</td>\n",
              "      <td>2065000.0</td>\n",
              "      <td>499.727997</td>\n",
              "    </tr>\n",
              "    <tr>\n",
              "      <th>2015-01-08</th>\n",
              "      <td>502.101471</td>\n",
              "      <td>489.655640</td>\n",
              "      <td>496.626526</td>\n",
              "      <td>501.303680</td>\n",
              "      <td>3353500.0</td>\n",
              "      <td>501.303680</td>\n",
              "    </tr>\n",
              "    <tr>\n",
              "      <th>...</th>\n",
              "      <td>...</td>\n",
              "      <td>...</td>\n",
              "      <td>...</td>\n",
              "      <td>...</td>\n",
              "      <td>...</td>\n",
              "      <td>...</td>\n",
              "    </tr>\n",
              "    <tr>\n",
              "      <th>2019-12-24</th>\n",
              "      <td>1350.260010</td>\n",
              "      <td>1342.780029</td>\n",
              "      <td>1348.500000</td>\n",
              "      <td>1343.560059</td>\n",
              "      <td>347500.0</td>\n",
              "      <td>1343.560059</td>\n",
              "    </tr>\n",
              "    <tr>\n",
              "      <th>2019-12-26</th>\n",
              "      <td>1361.327026</td>\n",
              "      <td>1344.469971</td>\n",
              "      <td>1346.170044</td>\n",
              "      <td>1360.400024</td>\n",
              "      <td>667500.0</td>\n",
              "      <td>1360.400024</td>\n",
              "    </tr>\n",
              "    <tr>\n",
              "      <th>2019-12-27</th>\n",
              "      <td>1364.530029</td>\n",
              "      <td>1349.310059</td>\n",
              "      <td>1362.989990</td>\n",
              "      <td>1351.890015</td>\n",
              "      <td>1038400.0</td>\n",
              "      <td>1351.890015</td>\n",
              "    </tr>\n",
              "    <tr>\n",
              "      <th>2019-12-30</th>\n",
              "      <td>1353.000000</td>\n",
              "      <td>1334.020020</td>\n",
              "      <td>1350.000000</td>\n",
              "      <td>1336.140015</td>\n",
              "      <td>1050900.0</td>\n",
              "      <td>1336.140015</td>\n",
              "    </tr>\n",
              "    <tr>\n",
              "      <th>2019-12-31</th>\n",
              "      <td>1338.000000</td>\n",
              "      <td>1329.084961</td>\n",
              "      <td>1330.109985</td>\n",
              "      <td>1337.020020</td>\n",
              "      <td>961800.0</td>\n",
              "      <td>1337.020020</td>\n",
              "    </tr>\n",
              "  </tbody>\n",
              "</table>\n",
              "<p>1258 rows × 6 columns</p>\n",
              "</div>"
            ],
            "text/plain": [
              "                   High          Low  ...     Volume    Adj Close\n",
              "Date                                  ...                        \n",
              "2015-01-02   529.815369   522.665039  ...  1447500.0   523.373108\n",
              "2015-01-05   522.894409   511.655243  ...  2059800.0   512.463013\n",
              "2015-01-06   514.761719   499.678131  ...  2899900.0   500.585632\n",
              "2015-01-07   505.855164   498.281952  ...  2065000.0   499.727997\n",
              "2015-01-08   502.101471   489.655640  ...  3353500.0   501.303680\n",
              "...                 ...          ...  ...        ...          ...\n",
              "2019-12-24  1350.260010  1342.780029  ...   347500.0  1343.560059\n",
              "2019-12-26  1361.327026  1344.469971  ...   667500.0  1360.400024\n",
              "2019-12-27  1364.530029  1349.310059  ...  1038400.0  1351.890015\n",
              "2019-12-30  1353.000000  1334.020020  ...  1050900.0  1336.140015\n",
              "2019-12-31  1338.000000  1329.084961  ...   961800.0  1337.020020\n",
              "\n",
              "[1258 rows x 6 columns]"
            ]
          },
          "metadata": {
            "tags": []
          },
          "execution_count": 3
        }
      ]
    },
    {
      "cell_type": "markdown",
      "metadata": {
        "id": "X169Hp9qKLrb",
        "colab_type": "text"
      },
      "source": [
        "#  Get X from Dataframe\n",
        "Time series to train the model is the 'Open' and 'Close' price.  \n",
        "The target is the next day 'Close' price."
      ]
    },
    {
      "cell_type": "code",
      "metadata": {
        "id": "AXv9O8YDGTBj",
        "colab_type": "code",
        "colab": {}
      },
      "source": [
        "X1 = df.loc[:, ['Open']].values\n",
        "X2 = df.loc[:, ['Close']].values"
      ],
      "execution_count": 0,
      "outputs": []
    },
    {
      "cell_type": "code",
      "metadata": {
        "id": "a4IqNf-SDIQe",
        "colab_type": "code",
        "outputId": "3b552ab1-e0ce-446a-a779-600b718a0c3b",
        "colab": {
          "base_uri": "https://localhost:8080/",
          "height": 51
        }
      },
      "source": [
        "print('X1 shape : ',X1.shape)\n",
        "print('X2 shape : ',X2.shape)"
      ],
      "execution_count": 0,
      "outputs": [
        {
          "output_type": "stream",
          "text": [
            "X1 shape :  (1258, 1)\n",
            "X2 shape :  (1258, 1)\n"
          ],
          "name": "stdout"
        }
      ]
    },
    {
      "cell_type": "markdown",
      "metadata": {
        "id": "COmHF16oKSkZ",
        "colab_type": "text"
      },
      "source": [
        "# Data Preprocessing"
      ]
    },
    {
      "cell_type": "code",
      "metadata": {
        "id": "TcahzmbtKII0",
        "colab_type": "code",
        "colab": {}
      },
      "source": [
        "# Feature Scaling on the data\n",
        "from sklearn.preprocessing import MinMaxScaler\n",
        "sc1 = MinMaxScaler(feature_range = (0,1))\n",
        "sc2 = MinMaxScaler(feature_range = (0,1))\n",
        "\n",
        "X1 = sc1.fit_transform(X1)\n",
        "X2 = sc2.fit_transform(X2)\n",
        "data_scaled = np.concatenate((X1,X2), axis = 1)"
      ],
      "execution_count": 0,
      "outputs": []
    },
    {
      "cell_type": "code",
      "metadata": {
        "id": "ypbzZ6ajK5ng",
        "colab_type": "code",
        "outputId": "92365ac5-ad6d-4159-8b28-118b79995b80",
        "colab": {
          "base_uri": "https://localhost:8080/",
          "height": 119
        }
      },
      "source": [
        "# check the shape of preprocessed data\n",
        "print('data shape : ', data_scaled.shape)\n",
        "data_scaled[:5]"
      ],
      "execution_count": 0,
      "outputs": [
        {
          "output_type": "stream",
          "text": [
            "data shape :  (1258, 2)\n"
          ],
          "name": "stdout"
        },
        {
          "output_type": "execute_result",
          "data": {
            "text/plain": [
              "array([[0.03938367, 0.03698029],\n",
              "       [0.03279298, 0.0244395 ],\n",
              "       [0.02332534, 0.01078684],\n",
              "       [0.01415566, 0.00980102],\n",
              "       [0.00382835, 0.01161222]])"
            ]
          },
          "metadata": {
            "tags": []
          },
          "execution_count": 7
        }
      ]
    },
    {
      "cell_type": "markdown",
      "metadata": {
        "id": "TS8a3yqX6_jt",
        "colab_type": "text"
      },
      "source": [
        "# Create timestep sequence\n",
        "X : n_steps sequence of data  \n",
        "y : 1 step output"
      ]
    },
    {
      "cell_type": "code",
      "metadata": {
        "id": "AJzgwyC574XA",
        "colab_type": "code",
        "colab": {}
      },
      "source": [
        "def create_sequence(data, n_steps):\n",
        "  X = []\n",
        "  y = []\n",
        "  for i in range(n_steps, len(data)):\n",
        "    X.append(data[i - n_steps:i])\n",
        "    y.append(data[i,-1])\n",
        "  return np.array(X), np.array(y)"
      ],
      "execution_count": 0,
      "outputs": []
    },
    {
      "cell_type": "code",
      "metadata": {
        "id": "ql8oMIa_83oF",
        "colab_type": "code",
        "outputId": "05204382-2be9-4e83-ae5e-d167d173434e",
        "colab": {
          "base_uri": "https://localhost:8080/",
          "height": 51
        }
      },
      "source": [
        "# choose number of timesteps\n",
        "n_steps = 60\n",
        "# Create the sequence and the output\n",
        "X,y = create_sequence(data_scaled, n_steps)\n",
        "print('X shape : ',X.shape)\n",
        "print('y shape : ',y.shape)"
      ],
      "execution_count": 0,
      "outputs": [
        {
          "output_type": "stream",
          "text": [
            "X shape :  (1198, 60, 2)\n",
            "y shape :  (1198,)\n"
          ],
          "name": "stdout"
        }
      ]
    },
    {
      "cell_type": "code",
      "metadata": {
        "id": "7znY3JZXOnZx",
        "colab_type": "code",
        "outputId": "2a9e42d4-494a-40f4-90c3-e92dda4fbabe",
        "colab": {
          "base_uri": "https://localhost:8080/",
          "height": 51
        }
      },
      "source": [
        "# separate input data for separated CNN\n",
        "# Note : CNN needs input dimension to be [samples, timesteps, features]\n",
        "X1 = X[:, :, 0].reshape(X.shape[0], X.shape[1], 1)\n",
        "X2 = X[:, :, 1].reshape(X.shape[0], X.shape[1], 1)\n",
        "print('X1 shape : ', X1.shape)\n",
        "print('X2 shape : ', X2.shape)"
      ],
      "execution_count": 0,
      "outputs": [
        {
          "output_type": "stream",
          "text": [
            "X1 shape :  (1198, 60, 1)\n",
            "X2 shape :  (1198, 60, 1)\n"
          ],
          "name": "stdout"
        }
      ]
    },
    {
      "cell_type": "markdown",
      "metadata": {
        "id": "p0Be9s7_-cI2",
        "colab_type": "text"
      },
      "source": [
        "# CNN model"
      ]
    },
    {
      "cell_type": "code",
      "metadata": {
        "id": "IKpC5p3l-lyY",
        "colab_type": "code",
        "colab": {}
      },
      "source": [
        "from keras.models import Model\n",
        "from keras.layers import Input, Dense, Conv1D, MaxPooling1D, Flatten\n",
        "from keras.layers.merge import concatenate"
      ],
      "execution_count": 0,
      "outputs": []
    },
    {
      "cell_type": "code",
      "metadata": {
        "id": "zoI3TvCx-UMl",
        "colab_type": "code",
        "colab": {}
      },
      "source": [
        "# define CNN model\n",
        "\n",
        "# first input model\n",
        "n_features = 1\n",
        "visible1 = Input(shape=(n_steps, n_features))\n",
        "cnn1 = Conv1D(filters=64, kernel_size=2, activation='relu')(visible1)\n",
        "cnn1 = MaxPooling1D(pool_size=2)(cnn1)\n",
        "cnn1 = Flatten()(cnn1)\n",
        "\n",
        "# second input model\n",
        "visible2 = Input(shape=(n_steps, n_features))\n",
        "cnn2 = Conv1D(filters=64, kernel_size=2, activation='relu')(visible2)\n",
        "cnn2 = MaxPooling1D(pool_size=2)(cnn2)\n",
        "cnn2 = Flatten()(cnn2)\n",
        "\n",
        "# merge input models\n",
        "merge = concatenate([cnn1, cnn2])\n",
        "dense = Dense(50, activation='relu')(merge)\n",
        "output = Dense(1)(dense)\n",
        "model = Model(inputs=[visible1, visible2], outputs=output)\n",
        "model.compile(optimizer='adam', loss='mse')"
      ],
      "execution_count": 0,
      "outputs": []
    },
    {
      "cell_type": "markdown",
      "metadata": {
        "id": "aqovR-qWCKXS",
        "colab_type": "text"
      },
      "source": [
        "# Train CNN"
      ]
    },
    {
      "cell_type": "code",
      "metadata": {
        "id": "BAP-LmwjEW5i",
        "colab_type": "code",
        "colab": {}
      },
      "source": [
        "history = model.fit([X1, X2], y, epochs = 1000, verbose = 0)"
      ],
      "execution_count": 0,
      "outputs": []
    },
    {
      "cell_type": "code",
      "metadata": {
        "id": "pQqVP_DYCvOi",
        "colab_type": "code",
        "outputId": "afcd8e26-8bb3-44fa-cd00-b665ca31c744",
        "colab": {
          "base_uri": "https://localhost:8080/",
          "height": 312
        }
      },
      "source": [
        "score = history.history['loss'][0]\n",
        "print('training loss : ', score)\n",
        "\n",
        "plt.plot(history.history['loss'])\n",
        "plt.title('Training MSE')\n",
        "plt.xlabel('epochs')\n",
        "plt.ylabel('mse')\n",
        "plt.show()"
      ],
      "execution_count": 0,
      "outputs": [
        {
          "output_type": "stream",
          "text": [
            "training loss :  0.020413137778782835\n"
          ],
          "name": "stdout"
        },
        {
          "output_type": "display_data",
          "data": {
            "image/png": "[encoded data removed]",
            "text/plain": [
              "<Figure size 432x288 with 1 Axes>"
            ]
          },
          "metadata": {
            "tags": [],
            "needs_background": "light"
          }
        }
      ]
    },
    {
      "cell_type": "code",
      "metadata": {
        "id": "5ZfkLAedBMcs",
        "colab_type": "code",
        "outputId": "4de50ed0-35d9-424d-9caf-8630c5b1c189",
        "colab": {
          "base_uri": "https://localhost:8080/",
          "height": 235
        }
      },
      "source": [
        "y_pred = model.predict([X1,X2])\n",
        "\n",
        "# inverse transform the price\n",
        "y = sc2.inverse_transform(y.reshape(len(y),1))\n",
        "y_pred = sc2.inverse_transform(y_pred)\n",
        "\n",
        "# plot the last 120 days of dataset\n",
        "plt.figure(figsize=(12,4))\n",
        "plt.plot(y[-120:])\n",
        "plt.plot(y_pred[-120:])\n",
        "plt.legend(['y','y_pred'])\n",
        "plt.show()"
      ],
      "execution_count": 0,
      "outputs": [
        {
          "output_type": "display_data",
          "data": {
            "image/png": "[encoded data removed]",
            "text/plain": [
              "<Figure size 864x288 with 1 Axes>"
            ]
          },
          "metadata": {
            "tags": [],
            "needs_background": "light"
          }
        }
      ]
    }
  ]
}